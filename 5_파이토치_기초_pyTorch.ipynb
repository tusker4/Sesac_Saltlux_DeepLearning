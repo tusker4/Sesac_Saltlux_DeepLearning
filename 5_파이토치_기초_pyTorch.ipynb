{
  "nbformat": 4,
  "nbformat_minor": 0,
  "metadata": {
    "colab": {
      "provenance": [],
      "toc_visible": true,
      "mount_file_id": "18qpwH_EA8FNiZx9FX-cyMq2s2pcrRKXk",
      "authorship_tag": "ABX9TyPT1hXT6xdKUUYI+9pXqyff",
      "include_colab_link": true
    },
    "kernelspec": {
      "name": "python3",
      "display_name": "Python 3"
    },
    "language_info": {
      "name": "python"
    }
  },
  "cells": [
    {
      "cell_type": "markdown",
      "metadata": {
        "id": "view-in-github",
        "colab_type": "text"
      },
      "source": [
        "<a href=\"https://colab.research.google.com/github/tusker4/Sesac_Saltlux_DeepLearning/blob/main/5_%ED%8C%8C%EC%9D%B4%ED%86%A0%EC%B9%98_%EA%B8%B0%EC%B4%88_pyTorch.ipynb\" target=\"_parent\"><img src=\"https://colab.research.google.com/assets/colab-badge.svg\" alt=\"Open In Colab\"/></a>"
      ]
    },
    {
      "cell_type": "code",
      "execution_count": 26,
      "metadata": {
        "id": "9fjIqHe0ddfK"
      },
      "outputs": [],
      "source": []
    },
    {
      "cell_type": "markdown",
      "source": [
        "# 개요\n",
        "- 파이토치\n",
        "  - 페이스북 + 뉴욕대\n",
        "  - 개방형, 점유율 2위\n",
        "    - 소스코드 공개, 자유개발 허용, 상업적이용허용 => LLM 발생\n",
        "  - 개발 스타일\n",
        "    - 객체지향적\n",
        "  - 특징\n",
        "    - Define By Run\n",
        "  - 선호분야\n",
        "    - R&D\n",
        "      - 자체 솔루션 구축하는 회사\n",
        "      - 국책 연구소\n",
        "\n"
      ],
      "metadata": {
        "id": "XzbWbUniduwy"
      }
    },
    {
      "cell_type": "code",
      "source": [
        "import torch\n",
        "# pyTorch.org 방문 => 자동으로 접속 PC점검\n",
        "\n",
        "# 개발 버전과 배포/운영  버전이 동일 => 도커등 컨테이너 방식이 선호\n",
        "torch.__version__"
      ],
      "metadata": {
        "colab": {
          "base_uri": "https://localhost:8080/",
          "height": 35
        },
        "id": "UpzwQdAbedHE",
        "outputId": "c32acde9-5bba-479e-f6fa-880ad785f42a"
      },
      "execution_count": 27,
      "outputs": [
        {
          "output_type": "execute_result",
          "data": {
            "text/plain": [
              "'2.1.0+cu118'"
            ],
            "application/vnd.google.colaboratory.intrinsic+json": {
              "type": "string"
            }
          },
          "metadata": {},
          "execution_count": 27
        }
      ]
    },
    {
      "cell_type": "code",
      "source": [
        "!nvidia-smi"
      ],
      "metadata": {
        "colab": {
          "base_uri": "https://localhost:8080/"
        },
        "id": "x7O2YDnZechy",
        "outputId": "9f255fc2-dbc3-441a-a227-bc68a72a940d"
      },
      "execution_count": 28,
      "outputs": [
        {
          "output_type": "stream",
          "name": "stdout",
          "text": [
            "/bin/bash: line 1: nvidia-smi: command not found\n"
          ]
        }
      ]
    },
    {
      "cell_type": "markdown",
      "source": [
        "# GPU 사용"
      ],
      "metadata": {
        "id": "Q9kghIJdflNu"
      }
    },
    {
      "cell_type": "code",
      "source": [
        "torch.cuda.is_available()"
      ],
      "metadata": {
        "colab": {
          "base_uri": "https://localhost:8080/"
        },
        "id": "fXm9BncyfRec",
        "outputId": "ed3c460a-20d6-403d-8315-913d23802bff"
      },
      "execution_count": 29,
      "outputs": [
        {
          "output_type": "execute_result",
          "data": {
            "text/plain": [
              "False"
            ]
          },
          "metadata": {},
          "execution_count": 29
        }
      ]
    },
    {
      "cell_type": "code",
      "source": [
        "# 현재 환경의 토치의 gpu 지원 여부에 따라 자동 세팅 -> 상수정의\n",
        "DEVICE = torch.device('cuda' if torch.cuda.is_available() else 'cpu' )\n",
        "DEVICE"
      ],
      "metadata": {
        "colab": {
          "base_uri": "https://localhost:8080/"
        },
        "id": "IKENs_CEfrf8",
        "outputId": "890f17fb-3730-4724-b79d-c08257de128b"
      },
      "execution_count": 30,
      "outputs": [
        {
          "output_type": "execute_result",
          "data": {
            "text/plain": [
              "device(type='cpu')"
            ]
          },
          "metadata": {},
          "execution_count": 30
        }
      ]
    },
    {
      "cell_type": "markdown",
      "source": [
        "- 텐서(파이토치의 자료구조)마다 GPU설정 가능\n",
        "- 전체 적용가능, 개별적용가능\n"
      ],
      "metadata": {
        "id": "3ReeKBW9gECE"
      }
    },
    {
      "cell_type": "markdown",
      "source": [
        "# 텐서, Tensor\n",
        "- 자료구조\n",
        "  - python\n",
        "    - 수치형,문자열, 블린\n",
        "    - 연속형-리스트, 튜플, 딕셔너리, 집합\n",
        "  - numpy\n",
        "    - ndarray\n",
        "  - pandas\n",
        "    - Series, DataFrame\n",
        "  - Tensorflow, pyTorch\n",
        "    - Tensor\n",
        "      - base는 ndarray를 근간으로 사용\n",
        "    - numpy가 베이스이다.\n",
        "\n",
        "- 특징\n",
        "  - 텐서는 행렬이다.\n",
        "  - 행렬 연산을 이해하면, 쉽게 사용 가능\n",
        "  - 딥러닝 연산의 기본은 텐서\n",
        "  \n"
      ],
      "metadata": {
        "id": "GrzKpPjug0mp"
      }
    },
    {
      "cell_type": "code",
      "source": [
        "from IPython.display import Image"
      ],
      "metadata": {
        "id": "Zxn1yrJagDG9"
      },
      "execution_count": 31,
      "outputs": []
    },
    {
      "cell_type": "code",
      "source": [
        "Image('/content/drive/MyDrive/머신러닝(솔트룩스)/딥 러닝/img/텐서스타일.png')"
      ],
      "metadata": {
        "colab": {
          "base_uri": "https://localhost:8080/",
          "height": 261
        },
        "id": "_QftbB6thzR5",
        "outputId": "12a909a7-109f-42cb-a953-72137b2070dd"
      },
      "execution_count": 32,
      "outputs": [
        {
          "output_type": "execute_result",
          "data": {
            "image/png": "[encoded data removed]",
            "text/plain": [
              "<IPython.core.display.Image object>"
            ]
          },
          "metadata": {},
          "execution_count": 32
        }
      ]
    },
    {
      "cell_type": "markdown",
      "source": [
        "# 토치 난수 고정\n",
        "- 난수 시드 고정\n",
        "  - 항상 같은 패턴으로 난수가 발생(변수를 제거), 재현성 높임.\n",
        "  - os레벨, 파이썬레벨, numpy레벨, 딥러닝 프레임웍 레벨 모두 고정"
      ],
      "metadata": {
        "id": "abKTmW3Nhs-8"
      }
    },
    {
      "cell_type": "code",
      "source": [
        "torch.manual_seed(1024)"
      ],
      "metadata": {
        "colab": {
          "base_uri": "https://localhost:8080/"
        },
        "id": "Bx5PLIdbideM",
        "outputId": "f2ab4206-03c3-44a3-e452-3030918b895b"
      },
      "execution_count": 33,
      "outputs": [
        {
          "output_type": "execute_result",
          "data": {
            "text/plain": [
              "<torch._C.Generator at 0x796aa8dcfcf0>"
            ]
          },
          "metadata": {},
          "execution_count": 33
        }
      ]
    },
    {
      "cell_type": "markdown",
      "source": [
        "# 텐서 생성\n",
        "- 리스트, 배열, 난수, 멤버가 모두 0 or 1, shape 카피해서 생성"
      ],
      "metadata": {
        "id": "SaEPoK7Siu5Z"
      }
    },
    {
      "cell_type": "code",
      "source": [
        "# 리스트로부터\n",
        "list_src = [\n",
        "    [1,2,3],\n",
        "    [4,5,6]\n",
        "]\n",
        "\n",
        "\n",
        "x = torch.Tensor( list_src )\n",
        "x"
      ],
      "metadata": {
        "colab": {
          "base_uri": "https://localhost:8080/"
        },
        "id": "UjMNu4v6jFfm",
        "outputId": "a550f4c5-a799-48b0-a2ed-0acff424684c"
      },
      "execution_count": 34,
      "outputs": [
        {
          "output_type": "execute_result",
          "data": {
            "text/plain": [
              "tensor([[1., 2., 3.],\n",
              "        [4., 5., 6.]])"
            ]
          },
          "metadata": {},
          "execution_count": 34
        }
      ]
    },
    {
      "cell_type": "code",
      "source": [
        "# 텐서 ->  리스트 추출가능하지만 , 타입이 변경\n",
        "x.tolist()"
      ],
      "metadata": {
        "colab": {
          "base_uri": "https://localhost:8080/"
        },
        "id": "uf8phZzkjo2m",
        "outputId": "88b7b12a-f507-4e9a-a5ab-176b0864d834"
      },
      "execution_count": 35,
      "outputs": [
        {
          "output_type": "execute_result",
          "data": {
            "text/plain": [
              "[[1.0, 2.0, 3.0], [4.0, 5.0, 6.0]]"
            ]
          },
          "metadata": {},
          "execution_count": 35
        }
      ]
    },
    {
      "cell_type": "code",
      "source": [
        "# 배열로 부터 생성\n",
        "import numpy as np\n",
        "import pandas as pd\n",
        "\n",
        "arr = np.arange(16).reshape(4,4)\n",
        "arr\n",
        "\n",
        "x = torch.Tensor(arr)\n",
        "x"
      ],
      "metadata": {
        "colab": {
          "base_uri": "https://localhost:8080/"
        },
        "id": "jPk15Mo8j3pe",
        "outputId": "4e019109-f3c0-4605-e212-6a21a6af3a26"
      },
      "execution_count": 36,
      "outputs": [
        {
          "output_type": "execute_result",
          "data": {
            "text/plain": [
              "tensor([[ 0.,  1.,  2.,  3.],\n",
              "        [ 4.,  5.,  6.,  7.],\n",
              "        [ 8.,  9., 10., 11.],\n",
              "        [12., 13., 14., 15.]])"
            ]
          },
          "metadata": {},
          "execution_count": 36
        }
      ]
    },
    {
      "cell_type": "code",
      "source": [
        "# 배열 추출\n",
        "x.numpy()"
      ],
      "metadata": {
        "colab": {
          "base_uri": "https://localhost:8080/"
        },
        "id": "2uogDQGVkWHC",
        "outputId": "1c22a57c-f3b2-439a-fdd3-82740b971bd1"
      },
      "execution_count": 37,
      "outputs": [
        {
          "output_type": "execute_result",
          "data": {
            "text/plain": [
              "array([[ 0.,  1.,  2.,  3.],\n",
              "       [ 4.,  5.,  6.,  7.],\n",
              "       [ 8.,  9., 10., 11.],\n",
              "       [12., 13., 14., 15.]], dtype=float32)"
            ]
          },
          "metadata": {},
          "execution_count": 37
        }
      ]
    },
    {
      "cell_type": "code",
      "source": [
        "# 난수로 부터 생성\n",
        "# low <= n < high\n",
        "torch.randint(0, 5, size=(2,3))"
      ],
      "metadata": {
        "colab": {
          "base_uri": "https://localhost:8080/"
        },
        "id": "Zvig4pmwkfkV",
        "outputId": "83e34c99-acd9-43db-dd3b-2ad5186ef334"
      },
      "execution_count": 38,
      "outputs": [
        {
          "output_type": "execute_result",
          "data": {
            "text/plain": [
              "tensor([[2, 1, 1],\n",
              "        [4, 0, 1]])"
            ]
          },
          "metadata": {},
          "execution_count": 38
        }
      ]
    },
    {
      "cell_type": "code",
      "source": [
        "# 특수한 형태/값을 가진 텐서 생성\n",
        "torch.zeros(2,2)\n"
      ],
      "metadata": {
        "colab": {
          "base_uri": "https://localhost:8080/"
        },
        "id": "OV7HH_iwlE0g",
        "outputId": "3aa91a58-b146-42e2-bfce-cf5330f04c09"
      },
      "execution_count": 39,
      "outputs": [
        {
          "output_type": "execute_result",
          "data": {
            "text/plain": [
              "tensor([[0., 0.],\n",
              "        [0., 0.]])"
            ]
          },
          "metadata": {},
          "execution_count": 39
        }
      ]
    },
    {
      "cell_type": "code",
      "source": [
        "torch.ones(2,2)"
      ],
      "metadata": {
        "colab": {
          "base_uri": "https://localhost:8080/"
        },
        "id": "imHXkwPTlMf3",
        "outputId": "a666d2ce-77a0-45af-cb05-391e4d8d9cb8"
      },
      "execution_count": 40,
      "outputs": [
        {
          "output_type": "execute_result",
          "data": {
            "text/plain": [
              "tensor([[1., 1.],\n",
              "        [1., 1.]])"
            ]
          },
          "metadata": {},
          "execution_count": 40
        }
      ]
    },
    {
      "cell_type": "code",
      "source": [
        "# 특정 텐서 x의 형태를 카피해서 멤버를 모두 1\n",
        "torch.ones_like(x)"
      ],
      "metadata": {
        "colab": {
          "base_uri": "https://localhost:8080/"
        },
        "id": "FP8LhiWZlRAx",
        "outputId": "6f35548e-1680-40f3-a3c3-4f4e7a271d12"
      },
      "execution_count": 41,
      "outputs": [
        {
          "output_type": "execute_result",
          "data": {
            "text/plain": [
              "tensor([[1., 1., 1., 1.],\n",
              "        [1., 1., 1., 1.],\n",
              "        [1., 1., 1., 1.],\n",
              "        [1., 1., 1., 1.]])"
            ]
          },
          "metadata": {},
          "execution_count": 41
        }
      ]
    },
    {
      "cell_type": "markdown",
      "source": [
        "- ★ 학습에 필요한 데이터는 반드시 **텐서로 바꿔서** 학습에 사용한다.\n",
        "\n",
        "\n",
        "------\n"
      ],
      "metadata": {
        "id": "BZqe1h1Glf-z"
      }
    },
    {
      "cell_type": "markdown",
      "source": [
        "# 텐서 타입"
      ],
      "metadata": {
        "id": "r9WA31Fkhs7P"
      }
    },
    {
      "cell_type": "markdown",
      "source": [
        "- 데이터에 맞춰서 타입을 정교하게 맞추면 학습비용이 절감된다.\n",
        "- 특정 타입의 텐서를 직접 만들 수 있있다.\n",
        "  - FloatTensor"
      ],
      "metadata": {
        "id": "5u2Ptb-wmz1-"
      }
    },
    {
      "cell_type": "code",
      "source": [
        "Image(' ')"
      ],
      "metadata": {
        "id": "OH2EXKqjlwTm"
      },
      "execution_count": null,
      "outputs": []
    },
    {
      "cell_type": "markdown",
      "source": [
        "# 텐서의 조작 및 연산\n",
        "- 텐서 생성(획득)후 체크할 기본사항\n",
        "  - 모양 : shape, size()\n",
        "  - 차원 : ndim, dim()\n",
        "  - 타입 : dtype, type()\n",
        "  - numpy에서 지원하는 대부분의 기능을 함수형태로 wraping해서 지원한다"
      ],
      "metadata": {
        "id": "aMNDtUhMhs5N"
      }
    },
    {
      "cell_type": "code",
      "source": [
        "x = torch.randint(0, 10, size=(2,3,4))\n",
        "x"
      ],
      "metadata": {
        "colab": {
          "base_uri": "https://localhost:8080/"
        },
        "id": "GZ47_K2unKrU",
        "outputId": "49c3027f-4d60-43e5-d2d5-8c44bcbdce8a"
      },
      "execution_count": 43,
      "outputs": [
        {
          "output_type": "execute_result",
          "data": {
            "text/plain": [
              "tensor([[[1, 8, 9, 6],\n",
              "         [5, 4, 8, 7],\n",
              "         [4, 9, 3, 1]],\n",
              "\n",
              "        [[3, 9, 2, 3],\n",
              "         [3, 9, 8, 7],\n",
              "         [9, 5, 1, 0]]])"
            ]
          },
          "metadata": {},
          "execution_count": 43
        }
      ]
    },
    {
      "cell_type": "code",
      "source": [
        "# 모양 , 차원, 타입\n",
        "x.shape, x.ndim, x.dim(), x.dtype, x.type()"
      ],
      "metadata": {
        "colab": {
          "base_uri": "https://localhost:8080/"
        },
        "id": "qfYPaKefqYnE",
        "outputId": "013257b8-400c-44af-8f32-0944898a5f88"
      },
      "execution_count": 47,
      "outputs": [
        {
          "output_type": "execute_result",
          "data": {
            "text/plain": [
              "(torch.Size([2, 3, 4]), 3, 3, torch.int64, 'torch.LongTensor')"
            ]
          },
          "metadata": {},
          "execution_count": 47
        }
      ]
    },
    {
      "cell_type": "markdown",
      "source": [
        "# 인덱싱, 슬라이싱\n",
        "  - indexing : 차원축소\n",
        "  - slicing : 차원 유지\n",
        "  "
      ],
      "metadata": {
        "id": "aWTolcPlnJ6G"
      }
    },
    {
      "cell_type": "code",
      "source": [
        "# 인덱싱 -> 기존과 동일\n",
        "x[0], x[0].size(), x[-1]"
      ],
      "metadata": {
        "colab": {
          "base_uri": "https://localhost:8080/"
        },
        "id": "Xps4YpMrrFIJ",
        "outputId": "3a423ca3-7738-4139-d030-35b193b96037"
      },
      "execution_count": 50,
      "outputs": [
        {
          "output_type": "execute_result",
          "data": {
            "text/plain": [
              "(tensor([[1, 8, 9, 6],\n",
              "         [5, 4, 8, 7],\n",
              "         [4, 9, 3, 1]]),\n",
              " torch.Size([3, 4]),\n",
              " tensor([[3, 9, 2, 3],\n",
              "         [3, 9, 8, 7],\n",
              "         [9, 5, 1, 0]]))"
            ]
          },
          "metadata": {},
          "execution_count": 50
        }
      ]
    },
    {
      "cell_type": "code",
      "source": [
        "#  인덱싱 응용(표현적)\n",
        "# 스칼라를 뽑고 싶으면 => 차원별로 나열, => 좌표찍기\n",
        "\n",
        "x[0][0][0], x[0,0,0]"
      ],
      "metadata": {
        "colab": {
          "base_uri": "https://localhost:8080/"
        },
        "id": "2gd_T8QhrVT-",
        "outputId": "7322e725-dc0b-4c1d-bf0e-62a3266c2d99"
      },
      "execution_count": 54,
      "outputs": [
        {
          "output_type": "execute_result",
          "data": {
            "text/plain": [
              "(tensor(1), tensor(1))"
            ]
          },
          "metadata": {},
          "execution_count": 54
        }
      ]
    },
    {
      "cell_type": "code",
      "source": [
        "# 슬라이싱\n",
        "x[:]  # 전체자체를 카피\n",
        "x[:].size()"
      ],
      "metadata": {
        "colab": {
          "base_uri": "https://localhost:8080/"
        },
        "id": "D_yoMedBrqZM",
        "outputId": "6e065263-1c50-4f8d-87ce-a81ea55f851a"
      },
      "execution_count": 55,
      "outputs": [
        {
          "output_type": "execute_result",
          "data": {
            "text/plain": [
              "torch.Size([2, 3, 4])"
            ]
          },
          "metadata": {},
          "execution_count": 55
        }
      ]
    },
    {
      "cell_type": "code",
      "source": [
        "# 슬라이싱 으용\n",
        "x[1, :, :] = 0\n",
        "x"
      ],
      "metadata": {
        "colab": {
          "base_uri": "https://localhost:8080/"
        },
        "id": "BbiFpmojr5hU",
        "outputId": "12e76865-f22c-44e8-9caa-21d0d05c135c"
      },
      "execution_count": 57,
      "outputs": [
        {
          "output_type": "execute_result",
          "data": {
            "text/plain": [
              "tensor([[[1, 8, 9, 6],\n",
              "         [5, 4, 8, 7],\n",
              "         [4, 9, 3, 1]],\n",
              "\n",
              "        [[0, 0, 0, 0],\n",
              "         [0, 0, 0, 0],\n",
              "         [0, 0, 0, 0]]])"
            ]
          },
          "metadata": {},
          "execution_count": 57
        }
      ]
    },
    {
      "cell_type": "markdown",
      "source": [
        "## View\n",
        "- numpy의 reshape\n",
        "- 차원변경\n",
        "- 데이터(원소)의 순서는 동일하게 유지\n",
        "  - 차원 변경 전 후"
      ],
      "metadata": {
        "id": "L98ZNcQjhs3Q"
      }
    },
    {
      "cell_type": "markdown",
      "source": [
        "## transpose\n",
        "- 차원의 맞교환\n",
        "  - (2,3,4) => (3,2,4), ...\n",
        "- 원소의 순서가 바뀐다."
      ],
      "metadata": {
        "id": "B6gcjp0-sdQt"
      }
    },
    {
      "cell_type": "code",
      "source": [
        "x = torch.randint(0, 10, size=(2,3,4))\n",
        "x"
      ],
      "metadata": {
        "colab": {
          "base_uri": "https://localhost:8080/"
        },
        "id": "3X26Y9jBsaqh",
        "outputId": "47cb9e16-ac2f-4a2f-d4e1-17e54655cbfe"
      },
      "execution_count": 60,
      "outputs": [
        {
          "output_type": "execute_result",
          "data": {
            "text/plain": [
              "tensor([[[6, 8, 7, 0],\n",
              "         [1, 6, 8, 9],\n",
              "         [1, 1, 4, 1]],\n",
              "\n",
              "        [[8, 3, 8, 5],\n",
              "         [0, 1, 4, 6],\n",
              "         [3, 9, 5, 4]]])"
            ]
          },
          "metadata": {},
          "execution_count": 60
        }
      ]
    },
    {
      "cell_type": "code",
      "source": [
        "# 차원을 모두 곱한 값이 원본값과 동일해야한다.\n",
        "x.view(2,2, 6)"
      ],
      "metadata": {
        "colab": {
          "base_uri": "https://localhost:8080/"
        },
        "id": "seWdApZzs1nJ",
        "outputId": "a0e20f67-2bb8-4400-8dfc-330138e0880a"
      },
      "execution_count": 61,
      "outputs": [
        {
          "output_type": "execute_result",
          "data": {
            "text/plain": [
              "tensor([[[6, 8, 7, 0, 1, 6],\n",
              "         [8, 9, 1, 1, 4, 1]],\n",
              "\n",
              "        [[8, 3, 8, 5, 0, 1],\n",
              "         [4, 6, 3, 9, 5, 4]]])"
            ]
          },
          "metadata": {},
          "execution_count": 61
        }
      ]
    },
    {
      "cell_type": "code",
      "source": [
        "x.reshape(2,3,4)"
      ],
      "metadata": {
        "colab": {
          "base_uri": "https://localhost:8080/"
        },
        "id": "EARezxgwtHiK",
        "outputId": "867f7d07-890c-4c48-d8c9-ae0efd4282aa"
      },
      "execution_count": 62,
      "outputs": [
        {
          "output_type": "execute_result",
          "data": {
            "text/plain": [
              "tensor([[[6, 8, 7, 0],\n",
              "         [1, 6, 8, 9],\n",
              "         [1, 1, 4, 1]],\n",
              "\n",
              "        [[8, 3, 8, 5],\n",
              "         [0, 1, 4, 6],\n",
              "         [3, 9, 5, 4]]])"
            ]
          },
          "metadata": {},
          "execution_count": 62
        }
      ]
    },
    {
      "cell_type": "code",
      "source": [
        "# 데이터의 개수를 모른다면 : -1\n",
        "x.reshape(-1, 12)"
      ],
      "metadata": {
        "colab": {
          "base_uri": "https://localhost:8080/"
        },
        "id": "mBfDCBvJtHaM",
        "outputId": "0a074f02-182d-44e7-88ab-30006d97883e"
      },
      "execution_count": 63,
      "outputs": [
        {
          "output_type": "execute_result",
          "data": {
            "text/plain": [
              "tensor([[6, 8, 7, 0, 1, 6, 8, 9, 1, 1, 4, 1],\n",
              "        [8, 3, 8, 5, 0, 1, 4, 6, 3, 9, 5, 4]])"
            ]
          },
          "metadata": {},
          "execution_count": 63
        }
      ]
    },
    {
      "cell_type": "markdown",
      "source": [
        "- transpose"
      ],
      "metadata": {
        "id": "CD1v5fLNtatP"
      }
    },
    {
      "cell_type": "code",
      "source": [
        "x.size()"
      ],
      "metadata": {
        "colab": {
          "base_uri": "https://localhost:8080/"
        },
        "id": "10Cjf_ebtqLi",
        "outputId": "a801a134-b56e-40b3-eab8-458c37938cde"
      },
      "execution_count": 66,
      "outputs": [
        {
          "output_type": "execute_result",
          "data": {
            "text/plain": [
              "torch.Size([2, 3, 4])"
            ]
          },
          "metadata": {},
          "execution_count": 66
        }
      ]
    },
    {
      "cell_type": "code",
      "source": [
        "# 0번째와 1번째 값을 transpose"
      ],
      "metadata": {
        "id": "WhMPn0KCtdtr"
      },
      "execution_count": 65,
      "outputs": []
    },
    {
      "cell_type": "code",
      "source": [
        "x.transpose(0, 1), x.transpose(0, 1).size()"
      ],
      "metadata": {
        "colab": {
          "base_uri": "https://localhost:8080/"
        },
        "id": "LbqvcmXjtpwy",
        "outputId": "92927562-0f73-4ab1-c6be-d063386a90a6"
      },
      "execution_count": 68,
      "outputs": [
        {
          "output_type": "execute_result",
          "data": {
            "text/plain": [
              "(tensor([[[6, 8, 7, 0],\n",
              "          [8, 3, 8, 5]],\n",
              " \n",
              "         [[1, 6, 8, 9],\n",
              "          [0, 1, 4, 6]],\n",
              " \n",
              "         [[1, 1, 4, 1],\n",
              "          [3, 9, 5, 4]]]),\n",
              " torch.Size([3, 2, 4]))"
            ]
          },
          "metadata": {},
          "execution_count": 68
        }
      ]
    },
    {
      "cell_type": "markdown",
      "source": [
        "## squeeze, unsqueeze\n",
        "- squeeze : 차원값이 1인 차원을 제거\n",
        "- unsqueeze : 차원값이 1인 차원을 추가\n"
      ],
      "metadata": {
        "id": "gOpnZwmnhs1L"
      }
    },
    {
      "cell_type": "code",
      "source": [
        "x = torch.rand((3,1,2,4,1))\n",
        "x.size(), x\n"
      ],
      "metadata": {
        "colab": {
          "base_uri": "https://localhost:8080/"
        },
        "id": "IoNd2P6nuSAb",
        "outputId": "c3c4041f-265c-49a5-9533-3df549580ad5"
      },
      "execution_count": 73,
      "outputs": [
        {
          "output_type": "execute_result",
          "data": {
            "text/plain": [
              "(torch.Size([3, 1, 2, 4, 1]),\n",
              " tensor([[[[[0.6378],\n",
              "            [0.7754],\n",
              "            [0.2238],\n",
              "            [0.2815]],\n",
              " \n",
              "           [[0.2565],\n",
              "            [0.4150],\n",
              "            [0.5494],\n",
              "            [0.9508]]]],\n",
              " \n",
              " \n",
              " \n",
              "         [[[[0.7733],\n",
              "            [0.0173],\n",
              "            [0.8943],\n",
              "            [0.9305]],\n",
              " \n",
              "           [[0.1506],\n",
              "            [0.4694],\n",
              "            [0.6687],\n",
              "            [0.8338]]]],\n",
              " \n",
              " \n",
              " \n",
              "         [[[[0.1054],\n",
              "            [0.6227],\n",
              "            [0.6268],\n",
              "            [0.2372]],\n",
              " \n",
              "           [[0.8549],\n",
              "            [0.1365],\n",
              "            [0.2590],\n",
              "            [0.7750]]]]]))"
            ]
          },
          "metadata": {},
          "execution_count": 73
        }
      ]
    },
    {
      "cell_type": "code",
      "source": [
        "tmp = x.squeeze()\n",
        "tmp.size()"
      ],
      "metadata": {
        "colab": {
          "base_uri": "https://localhost:8080/"
        },
        "id": "Qsb8wSwZuc9N",
        "outputId": "953fa359-b90e-4596-8734-cbca117410bd"
      },
      "execution_count": 76,
      "outputs": [
        {
          "output_type": "execute_result",
          "data": {
            "text/plain": [
              "torch.Size([3, 2, 4])"
            ]
          },
          "metadata": {},
          "execution_count": 76
        }
      ]
    },
    {
      "cell_type": "code",
      "source": [
        "tmp.unsqueeze(2).size() # 2번째 자리에 1을 넣어서 차원을 증가하고 싶엇"
      ],
      "metadata": {
        "colab": {
          "base_uri": "https://localhost:8080/"
        },
        "id": "MchRyCrfumPC",
        "outputId": "bd55d52e-a540-4a9a-b649-7a14390e0e94"
      },
      "execution_count": 78,
      "outputs": [
        {
          "output_type": "execute_result",
          "data": {
            "text/plain": [
              "torch.Size([3, 2, 1, 4])"
            ]
          },
          "metadata": {},
          "execution_count": 78
        }
      ]
    },
    {
      "cell_type": "markdown",
      "source": [
        "# cat, stack"
      ],
      "metadata": {
        "id": "_pBlNy0VhszA"
      }
    },
    {
      "cell_type": "markdown",
      "source": [
        "- cat  : 단순텐서 합치기\n",
        "- stack : 텐서 쌓기"
      ],
      "metadata": {
        "id": "ehjHppZ2vE7a"
      }
    },
    {
      "cell_type": "code",
      "source": [
        "a = torch.rand((2,3))\n",
        "b = torch.rand((2,3))\n",
        "a.size(), b.size()"
      ],
      "metadata": {
        "colab": {
          "base_uri": "https://localhost:8080/"
        },
        "id": "GaAcu4xgvABi",
        "outputId": "9aef9566-34eb-4f37-f52e-66bd0c0600c8"
      },
      "execution_count": 79,
      "outputs": [
        {
          "output_type": "execute_result",
          "data": {
            "text/plain": [
              "(torch.Size([2, 3]), torch.Size([2, 3]))"
            ]
          },
          "metadata": {},
          "execution_count": 79
        }
      ]
    },
    {
      "cell_type": "code",
      "source": [
        "# 단순합치기\n",
        "# dim = 0 => 1차원 합치기\n",
        "tmp = torch.cat([a, b] , dim=0)\n",
        "tmp.size()"
      ],
      "metadata": {
        "colab": {
          "base_uri": "https://localhost:8080/"
        },
        "id": "xuWFqPbGvT4S",
        "outputId": "eac9010a-01e6-47e2-97b0-596f55a80fd1"
      },
      "execution_count": 82,
      "outputs": [
        {
          "output_type": "execute_result",
          "data": {
            "text/plain": [
              "torch.Size([4, 3])"
            ]
          },
          "metadata": {},
          "execution_count": 82
        }
      ]
    },
    {
      "cell_type": "code",
      "source": [
        "# 단순합치기\n",
        "# dim = 0 => 1차원 합치기\n",
        "tmp = torch.cat([a, b] , dim=1)\n",
        "tmp.size()"
      ],
      "metadata": {
        "colab": {
          "base_uri": "https://localhost:8080/"
        },
        "id": "YO39ugDGv3bU",
        "outputId": "48ce13d4-8312-45ac-8223-d137cf119514"
      },
      "execution_count": 83,
      "outputs": [
        {
          "output_type": "execute_result",
          "data": {
            "text/plain": [
              "torch.Size([2, 6])"
            ]
          },
          "metadata": {},
          "execution_count": 83
        }
      ]
    },
    {
      "cell_type": "markdown",
      "source": [
        "# 쌓는다.\n",
        "- 쌓는다.\n"
      ],
      "metadata": {
        "id": "GZL8BEr6hswE"
      }
    },
    {
      "cell_type": "code",
      "source": [
        "# size는 동일하게 구성, 묶여진 형태가 dim=1 기준으로 묶였다.\n",
        "tmp = torch.stack([a, b], dim =1 )\n",
        "tmp.size()"
      ],
      "metadata": {
        "colab": {
          "base_uri": "https://localhost:8080/"
        },
        "id": "iD-ABgNawIDV",
        "outputId": "e44769a4-4393-45c3-cf9b-5422c72d53c1"
      },
      "execution_count": 85,
      "outputs": [
        {
          "output_type": "execute_result",
          "data": {
            "text/plain": [
              "torch.Size([2, 2, 3])"
            ]
          },
          "metadata": {},
          "execution_count": 85
        }
      ]
    },
    {
      "cell_type": "markdown",
      "source": [
        "## 텐서의 기초연산"
      ],
      "metadata": {
        "id": "OUJ7hDZtws-N"
      }
    },
    {
      "cell_type": "markdown",
      "source": [
        "## 기본 사칙연산\n",
        "+,-,\n",
        "- 같은 자리에 있는 원소끼리 연산했다.\n",
        "- 현재 기준을 동일한 size를 가진 텐서끼리ㅣ 연산\n",
        "\n"
      ],
      "metadata": {
        "id": "lYH97T0cw5j-"
      }
    },
    {
      "cell_type": "code",
      "source": [
        "# (2,3) (2,3)\n",
        "x = torch.Tensor([[ 1,2,3,], [4,5,6]])\n",
        "y = torch.Tensor([[ 10,20,30,], [40,50,60]])"
      ],
      "metadata": {
        "id": "M34-AkHYwsAC"
      },
      "execution_count": 89,
      "outputs": []
    },
    {
      "cell_type": "code",
      "source": [
        "# 행렬의 합\n",
        "x+y, x.add(y)"
      ],
      "metadata": {
        "colab": {
          "base_uri": "https://localhost:8080/"
        },
        "id": "KTm6XB3QxP5L",
        "outputId": "25227a3d-a0a3-443a-94a3-ca6916466b63"
      },
      "execution_count": 90,
      "outputs": [
        {
          "output_type": "execute_result",
          "data": {
            "text/plain": [
              "(tensor([[11., 22., 33.],\n",
              "         [44., 55., 66.]]),\n",
              " tensor([[11., 22., 33.],\n",
              "         [44., 55., 66.]]))"
            ]
          },
          "metadata": {},
          "execution_count": 90
        }
      ]
    },
    {
      "cell_type": "code",
      "source": [
        "# 행렬의 곱셈, 나눗셈\n",
        "x * y, x.mul(y)"
      ],
      "metadata": {
        "colab": {
          "base_uri": "https://localhost:8080/"
        },
        "id": "2HrEZ-KaxfFN",
        "outputId": "9cd047fb-de90-411e-ea73-eca314ef166d"
      },
      "execution_count": 92,
      "outputs": [
        {
          "output_type": "execute_result",
          "data": {
            "text/plain": [
              "(tensor([[ 10.,  40.,  90.],\n",
              "         [160., 250., 360.]]),\n",
              " tensor([[ 10.,  40.,  90.],\n",
              "         [160., 250., 360.]]))"
            ]
          },
          "metadata": {},
          "execution_count": 92
        }
      ]
    },
    {
      "cell_type": "markdown",
      "source": [],
      "metadata": {
        "id": "YrWGHl6xhsuL"
      }
    },
    {
      "cell_type": "markdown",
      "source": [],
      "metadata": {
        "id": "sD3J2TDkhsrD"
      }
    },
    {
      "cell_type": "markdown",
      "source": [],
      "metadata": {
        "id": "Lf0f7uQfhsoy"
      }
    },
    {
      "cell_type": "code",
      "source": [
        "x/y, x.div(y)"
      ],
      "metadata": {
        "colab": {
          "base_uri": "https://localhost:8080/"
        },
        "id": "OIswuYfDhshw",
        "outputId": "85b356f8-f7f8-4bd1-d82c-2b40b09ec607"
      },
      "execution_count": 94,
      "outputs": [
        {
          "output_type": "execute_result",
          "data": {
            "text/plain": [
              "(tensor([[0.1000, 0.1000, 0.1000],\n",
              "         [0.1000, 0.1000, 0.1000]]),\n",
              " tensor([[0.1000, 0.1000, 0.1000],\n",
              "         [0.1000, 0.1000, 0.1000]]))"
            ]
          },
          "metadata": {},
          "execution_count": 94
        }
      ]
    },
    {
      "cell_type": "code",
      "source": [
        "# size가 다른 텐서간 연산\n",
        "z = torch.Tensor([10])\n",
        "z.size()"
      ],
      "metadata": {
        "colab": {
          "base_uri": "https://localhost:8080/"
        },
        "id": "lmqDK0bThsfq",
        "outputId": "c5437cec-130c-4f7f-d240-63becfb844ec"
      },
      "execution_count": 95,
      "outputs": [
        {
          "output_type": "execute_result",
          "data": {
            "text/plain": [
              "torch.Size([1])"
            ]
          },
          "metadata": {},
          "execution_count": 95
        }
      ]
    },
    {
      "cell_type": "code",
      "source": [
        "# 행렬의 합 (매트릭스 + 스칼라)\n",
        "x + 10"
      ],
      "metadata": {
        "colab": {
          "base_uri": "https://localhost:8080/"
        },
        "id": "AaXrUB7qhsaw",
        "outputId": "9ce01610-c93e-42c7-9a6b-94700524f12a"
      },
      "execution_count": 97,
      "outputs": [
        {
          "output_type": "execute_result",
          "data": {
            "text/plain": [
              "tensor([[11., 12., 13.],\n",
              "        [14., 15., 16.]])"
            ]
          },
          "metadata": {},
          "execution_count": 97
        }
      ]
    },
    {
      "cell_type": "code",
      "source": [
        "# (2,3), (1,) z는 스칼라가 아닌데 모든 원소에 가서 일일히 연산을 수행했다\n",
        "# 브로드케스팅이 작동했다 (numpy부터 지원)\n",
        "# 모양이 다르면 연산이 가능하게  stretch 처리\n",
        "# y= wx + b 에서 이렇게 작동\n",
        "x + z"
      ],
      "metadata": {
        "colab": {
          "base_uri": "https://localhost:8080/"
        },
        "id": "DDSI2MuRhsd1",
        "outputId": "e3fa53db-2162-4682-b53c-6722c0643d01"
      },
      "execution_count": 96,
      "outputs": [
        {
          "output_type": "execute_result",
          "data": {
            "text/plain": [
              "tensor([[11., 12., 13.],\n",
              "        [14., 15., 16.]])"
            ]
          },
          "metadata": {},
          "execution_count": 96
        }
      ]
    },
    {
      "cell_type": "code",
      "source": [
        "Image('/content/drive/MyDrive/머신러닝(솔트룩스)/딥 러닝/img/토치_002_브로드케스팅1.png')"
      ],
      "metadata": {
        "colab": {
          "base_uri": "https://localhost:8080/",
          "height": 242
        },
        "id": "gi1ifHPuhsX9",
        "outputId": "cc934f5d-f668-4263-af2b-198b23802f1e"
      },
      "execution_count": 99,
      "outputs": [
        {
          "output_type": "execute_result",
          "data": {
            "image/png": "[encoded data removed]",
            "text/plain": [
              "<IPython.core.display.Image object>"
            ]
          },
          "metadata": {},
          "execution_count": 99
        }
      ]
    },
    {
      "cell_type": "code",
      "source": [
        "Image('/content/drive/MyDrive/머신러닝(솔트룩스)/딥 러닝/img/토치_002_브로드케스팅2.png')"
      ],
      "metadata": {
        "colab": {
          "base_uri": "https://localhost:8080/",
          "height": 339
        },
        "id": "V5TRnJ_ZhsWQ",
        "outputId": "f5418fad-9a82-4c14-ee22-734c5b6988a1"
      },
      "execution_count": 100,
      "outputs": [
        {
          "output_type": "execute_result",
          "data": {
            "image/png": "[encoded data removed]",
            "text/plain": [
              "<IPython.core.display.Image object>"
            ]
          },
          "metadata": {},
          "execution_count": 100
        }
      ]
    },
    {
      "cell_type": "code",
      "source": [
        "Image('/content/drive/MyDrive/머신러닝(솔트룩스)/딥 러닝/img/토치_002_브로드케스팅1.png')\n",
        "\n",
        "# (4,1) + (1,3) = (4, 3) 가능 0\n"
      ],
      "metadata": {
        "id": "laUZS5tHhsUT"
      },
      "execution_count": null,
      "outputs": []
    },
    {
      "cell_type": "markdown",
      "source": [
        "- 행률의 곱, 제거"
      ],
      "metadata": {
        "id": "SrKnNocezt3E"
      }
    },
    {
      "cell_type": "code",
      "source": [
        "x  = torch.Tensor([1,2,3])\n",
        "y = torch.Tensor([4,5,6])\n",
        "x,y"
      ],
      "metadata": {
        "colab": {
          "base_uri": "https://localhost:8080/"
        },
        "id": "MJ8KkGfJzzs8",
        "outputId": "c9d396fe-5f4f-4d5b-f11e-221398838699"
      },
      "execution_count": 103,
      "outputs": [
        {
          "output_type": "execute_result",
          "data": {
            "text/plain": [
              "(tensor([1., 2., 3.]), tensor([4., 5., 6.]))"
            ]
          },
          "metadata": {},
          "execution_count": 103
        }
      ]
    },
    {
      "cell_type": "code",
      "source": [
        "x * y # 간단한 곱"
      ],
      "metadata": {
        "colab": {
          "base_uri": "https://localhost:8080/"
        },
        "id": "OND1y9UR0MUY",
        "outputId": "78e63dec-12ab-4fdb-8455-a9dbadcef68c"
      },
      "execution_count": 105,
      "outputs": [
        {
          "output_type": "execute_result",
          "data": {
            "text/plain": [
              "tensor([ 4., 10., 18.])"
            ]
          },
          "metadata": {},
          "execution_count": 105
        }
      ]
    },
    {
      "cell_type": "code",
      "source": [],
      "metadata": {
        "id": "onX223yGC5ED"
      },
      "execution_count": null,
      "outputs": []
    },
    {
      "cell_type": "code",
      "source": [
        "#  백터 내적 -> 두 백터사이의 유사도를 측정할 때 사용 => 자연어에서 유사도 검사 활용\n",
        "# => 챗봇 : 질문 => 유사한 질문을 찾아서 답변, 원문 => 기계번역, 유사도 높은 답 => 답\n",
        "# 32 = 1*4+ 2*5+ 3*6 = 32\n",
        "torch.dot(x,y)  # 내적"
      ],
      "metadata": {
        "colab": {
          "base_uri": "https://localhost:8080/"
        },
        "id": "bq8-K5nZ0T14",
        "outputId": "c2955c32-0bcf-4350-b677-20f7362c9035"
      },
      "execution_count": 106,
      "outputs": [
        {
          "output_type": "execute_result",
          "data": {
            "text/plain": [
              "tensor(32.)"
            ]
          },
          "metadata": {},
          "execution_count": 106
        }
      ]
    },
    {
      "cell_type": "code",
      "source": [
        "# 2차원 ㄷ이터 준비\n",
        "x = torch.Tensor([\n",
        "                  [1,3],\n",
        "                  [2,3],\n",
        "                  [5,6]\n",
        "                  ])\n",
        "x.size()"
      ],
      "metadata": {
        "colab": {
          "base_uri": "https://localhost:8080/"
        },
        "id": "293E_D9u0u9T",
        "outputId": "b6c27e40-ba62-4800-8eb1-556bd961b3d3"
      },
      "execution_count": 107,
      "outputs": [
        {
          "output_type": "execute_result",
          "data": {
            "text/plain": [
              "torch.Size([3, 2])"
            ]
          },
          "metadata": {},
          "execution_count": 107
        }
      ]
    },
    {
      "cell_type": "code",
      "source": [
        "y = torch.Tensor([\n",
        "    [7,8],\n",
        "    [9,10]\n",
        "])\n",
        "y.size()"
      ],
      "metadata": {
        "colab": {
          "base_uri": "https://localhost:8080/"
        },
        "id": "s7g8KXoX07nR",
        "outputId": "e841d4db-34c6-41fa-9a33-f08bcd421965"
      },
      "execution_count": 109,
      "outputs": [
        {
          "output_type": "execute_result",
          "data": {
            "text/plain": [
              "torch.Size([2, 2])"
            ]
          },
          "metadata": {},
          "execution_count": 109
        }
      ]
    },
    {
      "cell_type": "code",
      "source": [
        "# x * y # error\n",
        "# mm : matrix multiple : 행렬의 곱\n",
        "\n",
        "tmp = torch.mm(x,y)\n",
        "tmp.size(), tmp\n",
        "\n",
        "'''\n",
        "  tensor([[ 34.,  38.],\n",
        "        [ 41.,  46.],\n",
        "        [ 89., 100.]])\n",
        "        34 = 1*7+ 3*9, 38 = 1*8 + 3*10\n",
        "'''"
      ],
      "metadata": {
        "colab": {
          "base_uri": "https://localhost:8080/"
        },
        "id": "NSMXwWlb1COF",
        "outputId": "120ee335-1e2c-4bc9-931e-6a91c5779cea"
      },
      "execution_count": 113,
      "outputs": [
        {
          "output_type": "execute_result",
          "data": {
            "text/plain": [
              "tensor([[ 34.,  38.],\n",
              "        [ 41.,  46.],\n",
              "        [ 89., 100.]])"
            ]
          },
          "metadata": {},
          "execution_count": 113
        }
      ]
    },
    {
      "cell_type": "markdown",
      "source": [],
      "metadata": {
        "id": "vU6Uggdeztx3"
      }
    },
    {
      "cell_type": "markdown",
      "source": [],
      "metadata": {
        "id": "rzlHtTKwztwJ"
      }
    },
    {
      "cell_type": "markdown",
      "source": [],
      "metadata": {
        "id": "TYt5iy0fztuX"
      }
    },
    {
      "cell_type": "markdown",
      "source": [],
      "metadata": {
        "id": "IPi0ENFSztsW"
      }
    },
    {
      "cell_type": "markdown",
      "source": [],
      "metadata": {
        "id": "nFuCV130ztpI"
      }
    },
    {
      "cell_type": "markdown",
      "source": [],
      "metadata": {
        "id": "9CeXaMe5ztlv"
      }
    },
    {
      "cell_type": "markdown",
      "source": [],
      "metadata": {
        "id": "xNpoyoC5ztgc"
      }
    },
    {
      "cell_type": "markdown",
      "source": [],
      "metadata": {
        "id": "lFOyB2R_ztet"
      }
    },
    {
      "cell_type": "markdown",
      "source": [],
      "metadata": {
        "id": "KdbUbgx6ztcV"
      }
    }
  ]
}