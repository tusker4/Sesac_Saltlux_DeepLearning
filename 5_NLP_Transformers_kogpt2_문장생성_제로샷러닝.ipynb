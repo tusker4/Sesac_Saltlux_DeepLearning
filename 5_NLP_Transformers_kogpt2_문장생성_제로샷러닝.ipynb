{
  "nbformat": 4,
  "nbformat_minor": 0,
  "metadata": {
    "colab": {
      "provenance": [],
      "toc_visible": true,
      "mount_file_id": "1RXizpt0lwPCckGIx23E0uhFYA60uxz6y",
      "authorship_tag": "ABX9TyOF1OM+Bcwu8FskiN4ob4nm",
      "include_colab_link": true
    },
    "kernelspec": {
      "name": "python3",
      "display_name": "Python 3"
    },
    "language_info": {
      "name": "python"
    },
    "widgets": {
      "application/vnd.jupyter.widget-state+json": {
        "c3f4d83887a647568379dfbb9bcb16f2": {
          "model_module": "@jupyter-widgets/controls",
          "model_name": "HBoxModel",
          "model_module_version": "1.5.0",
          "state": {
            "_dom_classes": [],
            "_model_module": "@jupyter-widgets/controls",
            "_model_module_version": "1.5.0",
            "_model_name": "HBoxModel",
            "_view_count": null,
            "_view_module": "@jupyter-widgets/controls",
            "_view_module_version": "1.5.0",
            "_view_name": "HBoxView",
            "box_style": "",
            "children": [
              "IPY_MODEL_00b9f00d96f34e2cad0beaf9a6486d9a",
              "IPY_MODEL_a7d83bdc266a4c55ba2c38baacb00261",
              "IPY_MODEL_5bbd740e1c8c46498bfa86ba522bddd6"
            ],
            "layout": "IPY_MODEL_784886ea4f69447da9de343cfca1aaf3"
          }
        },
        "00b9f00d96f34e2cad0beaf9a6486d9a": {
          "model_module": "@jupyter-widgets/controls",
          "model_name": "HTMLModel",
          "model_module_version": "1.5.0",
          "state": {
            "_dom_classes": [],
            "_model_module": "@jupyter-widgets/controls",
            "_model_module_version": "1.5.0",
            "_model_name": "HTMLModel",
            "_view_count": null,
            "_view_module": "@jupyter-widgets/controls",
            "_view_module_version": "1.5.0",
            "_view_name": "HTMLView",
            "description": "",
            "description_tooltip": null,
            "layout": "IPY_MODEL_03a9362025224da29b4c6c3ea7164373",
            "placeholder": "​",
            "style": "IPY_MODEL_5f0f993cc5674824ba533943c0689e4e",
            "value": "Downloading (…)lve/main/config.json: 100%"
          }
        },
        "a7d83bdc266a4c55ba2c38baacb00261": {
          "model_module": "@jupyter-widgets/controls",
          "model_name": "FloatProgressModel",
          "model_module_version": "1.5.0",
          "state": {
            "_dom_classes": [],
            "_model_module": "@jupyter-widgets/controls",
            "_model_module_version": "1.5.0",
            "_model_name": "FloatProgressModel",
            "_view_count": null,
            "_view_module": "@jupyter-widgets/controls",
            "_view_module_version": "1.5.0",
            "_view_name": "ProgressView",
            "bar_style": "success",
            "description": "",
            "description_tooltip": null,
            "layout": "IPY_MODEL_3d15f697b49245409eeb2ff075339e94",
            "max": 1000,
            "min": 0,
            "orientation": "horizontal",
            "style": "IPY_MODEL_d59455d1373c46969e1c50b644506cdc",
            "value": 1000
          }
        },
        "5bbd740e1c8c46498bfa86ba522bddd6": {
          "model_module": "@jupyter-widgets/controls",
          "model_name": "HTMLModel",
          "model_module_version": "1.5.0",
          "state": {
            "_dom_classes": [],
            "_model_module": "@jupyter-widgets/controls",
            "_model_module_version": "1.5.0",
            "_model_name": "HTMLModel",
            "_view_count": null,
            "_view_module": "@jupyter-widgets/controls",
            "_view_module_version": "1.5.0",
            "_view_name": "HTMLView",
            "description": "",
            "description_tooltip": null,
            "layout": "IPY_MODEL_400ab4c58b114040835deda3bc3e351f",
            "placeholder": "​",
            "style": "IPY_MODEL_4e486fc5549141e497926be9b703aedb",
            "value": " 1.00k/1.00k [00:00&lt;00:00, 43.5kB/s]"
          }
        },
        "784886ea4f69447da9de343cfca1aaf3": {
          "model_module": "@jupyter-widgets/base",
          "model_name": "LayoutModel",
          "model_module_version": "1.2.0",
          "state": {
            "_model_module": "@jupyter-widgets/base",
            "_model_module_version": "1.2.0",
            "_model_name": "LayoutModel",
            "_view_count": null,
            "_view_module": "@jupyter-widgets/base",
            "_view_module_version": "1.2.0",
            "_view_name": "LayoutView",
            "align_content": null,
            "align_items": null,
            "align_self": null,
            "border": null,
            "bottom": null,
            "display": null,
            "flex": null,
            "flex_flow": null,
            "grid_area": null,
            "grid_auto_columns": null,
            "grid_auto_flow": null,
            "grid_auto_rows": null,
            "grid_column": null,
            "grid_gap": null,
            "grid_row": null,
            "grid_template_areas": null,
            "grid_template_columns": null,
            "grid_template_rows": null,
            "height": null,
            "justify_content": null,
            "justify_items": null,
            "left": null,
            "margin": null,
            "max_height": null,
            "max_width": null,
            "min_height": null,
            "min_width": null,
            "object_fit": null,
            "object_position": null,
            "order": null,
            "overflow": null,
            "overflow_x": null,
            "overflow_y": null,
            "padding": null,
            "right": null,
            "top": null,
            "visibility": null,
            "width": null
          }
        },
        "03a9362025224da29b4c6c3ea7164373": {
          "model_module": "@jupyter-widgets/base",
          "model_name": "LayoutModel",
          "model_module_version": "1.2.0",
          "state": {
            "_model_module": "@jupyter-widgets/base",
            "_model_module_version": "1.2.0",
            "_model_name": "LayoutModel",
            "_view_count": null,
            "_view_module": "@jupyter-widgets/base",
            "_view_module_version": "1.2.0",
            "_view_name": "LayoutView",
            "align_content": null,
            "align_items": null,
            "align_self": null,
            "border": null,
            "bottom": null,
            "display": null,
            "flex": null,
            "flex_flow": null,
            "grid_area": null,
            "grid_auto_columns": null,
            "grid_auto_flow": null,
            "grid_auto_rows": null,
            "grid_column": null,
            "grid_gap": null,
            "grid_row": null,
            "grid_template_areas": null,
            "grid_template_columns": null,
            "grid_template_rows": null,
            "height": null,
            "justify_content": null,
            "justify_items": null,
            "left": null,
            "margin": null,
            "max_height": null,
            "max_width": null,
            "min_height": null,
            "min_width": null,
            "object_fit": null,
            "object_position": null,
            "order": null,
            "overflow": null,
            "overflow_x": null,
            "overflow_y": null,
            "padding": null,
            "right": null,
            "top": null,
            "visibility": null,
            "width": null
          }
        },
        "5f0f993cc5674824ba533943c0689e4e": {
          "model_module": "@jupyter-widgets/controls",
          "model_name": "DescriptionStyleModel",
          "model_module_version": "1.5.0",
          "state": {
            "_model_module": "@jupyter-widgets/controls",
            "_model_module_version": "1.5.0",
            "_model_name": "DescriptionStyleModel",
            "_view_count": null,
            "_view_module": "@jupyter-widgets/base",
            "_view_module_version": "1.2.0",
            "_view_name": "StyleView",
            "description_width": ""
          }
        },
        "3d15f697b49245409eeb2ff075339e94": {
          "model_module": "@jupyter-widgets/base",
          "model_name": "LayoutModel",
          "model_module_version": "1.2.0",
          "state": {
            "_model_module": "@jupyter-widgets/base",
            "_model_module_version": "1.2.0",
            "_model_name": "LayoutModel",
            "_view_count": null,
            "_view_module": "@jupyter-widgets/base",
            "_view_module_version": "1.2.0",
            "_view_name": "LayoutView",
            "align_content": null,
            "align_items": null,
            "align_self": null,
            "border": null,
            "bottom": null,
            "display": null,
            "flex": null,
            "flex_flow": null,
            "grid_area": null,
            "grid_auto_columns": null,
            "grid_auto_flow": null,
            "grid_auto_rows": null,
            "grid_column": null,
            "grid_gap": null,
            "grid_row": null,
            "grid_template_areas": null,
            "grid_template_columns": null,
            "grid_template_rows": null,
            "height": null,
            "justify_content": null,
            "justify_items": null,
            "left": null,
            "margin": null,
            "max_height": null,
            "max_width": null,
            "min_height": null,
            "min_width": null,
            "object_fit": null,
            "object_position": null,
            "order": null,
            "overflow": null,
            "overflow_x": null,
            "overflow_y": null,
            "padding": null,
            "right": null,
            "top": null,
            "visibility": null,
            "width": null
          }
        },
        "d59455d1373c46969e1c50b644506cdc": {
          "model_module": "@jupyter-widgets/controls",
          "model_name": "ProgressStyleModel",
          "model_module_version": "1.5.0",
          "state": {
            "_model_module": "@jupyter-widgets/controls",
            "_model_module_version": "1.5.0",
            "_model_name": "ProgressStyleModel",
            "_view_count": null,
            "_view_module": "@jupyter-widgets/base",
            "_view_module_version": "1.2.0",
            "_view_name": "StyleView",
            "bar_color": null,
            "description_width": ""
          }
        },
        "400ab4c58b114040835deda3bc3e351f": {
          "model_module": "@jupyter-widgets/base",
          "model_name": "LayoutModel",
          "model_module_version": "1.2.0",
          "state": {
            "_model_module": "@jupyter-widgets/base",
            "_model_module_version": "1.2.0",
            "_model_name": "LayoutModel",
            "_view_count": null,
            "_view_module": "@jupyter-widgets/base",
            "_view_module_version": "1.2.0",
            "_view_name": "LayoutView",
            "align_content": null,
            "align_items": null,
            "align_self": null,
            "border": null,
            "bottom": null,
            "display": null,
            "flex": null,
            "flex_flow": null,
            "grid_area": null,
            "grid_auto_columns": null,
            "grid_auto_flow": null,
            "grid_auto_rows": null,
            "grid_column": null,
            "grid_gap": null,
            "grid_row": null,
            "grid_template_areas": null,
            "grid_template_columns": null,
            "grid_template_rows": null,
            "height": null,
            "justify_content": null,
            "justify_items": null,
            "left": null,
            "margin": null,
            "max_height": null,
            "max_width": null,
            "min_height": null,
            "min_width": null,
            "object_fit": null,
            "object_position": null,
            "order": null,
            "overflow": null,
            "overflow_x": null,
            "overflow_y": null,
            "padding": null,
            "right": null,
            "top": null,
            "visibility": null,
            "width": null
          }
        },
        "4e486fc5549141e497926be9b703aedb": {
          "model_module": "@jupyter-widgets/controls",
          "model_name": "DescriptionStyleModel",
          "model_module_version": "1.5.0",
          "state": {
            "_model_module": "@jupyter-widgets/controls",
            "_model_module_version": "1.5.0",
            "_model_name": "DescriptionStyleModel",
            "_view_count": null,
            "_view_module": "@jupyter-widgets/base",
            "_view_module_version": "1.2.0",
            "_view_name": "StyleView",
            "description_width": ""
          }
        },
        "66b27dd13b6246759dab098e1f009038": {
          "model_module": "@jupyter-widgets/controls",
          "model_name": "HBoxModel",
          "model_module_version": "1.5.0",
          "state": {
            "_dom_classes": [],
            "_model_module": "@jupyter-widgets/controls",
            "_model_module_version": "1.5.0",
            "_model_name": "HBoxModel",
            "_view_count": null,
            "_view_module": "@jupyter-widgets/controls",
            "_view_module_version": "1.5.0",
            "_view_name": "HBoxView",
            "box_style": "",
            "children": [
              "IPY_MODEL_56cb1b4b31e34543a787bc8952a09d3d",
              "IPY_MODEL_e5246520d3644a2fa3463e44c2549a5d",
              "IPY_MODEL_0efc38947ea148c6bcd2eff238b39cbf"
            ],
            "layout": "IPY_MODEL_519f2a5ba83640ceba5938a73bb14fbc"
          }
        },
        "56cb1b4b31e34543a787bc8952a09d3d": {
          "model_module": "@jupyter-widgets/controls",
          "model_name": "HTMLModel",
          "model_module_version": "1.5.0",
          "state": {
            "_dom_classes": [],
            "_model_module": "@jupyter-widgets/controls",
            "_model_module_version": "1.5.0",
            "_model_name": "HTMLModel",
            "_view_count": null,
            "_view_module": "@jupyter-widgets/controls",
            "_view_module_version": "1.5.0",
            "_view_name": "HTMLView",
            "description": "",
            "description_tooltip": null,
            "layout": "IPY_MODEL_95f11938ae88464ea86e9633bb8586f4",
            "placeholder": "​",
            "style": "IPY_MODEL_2fdfe72270be4bce95dd9fd42319ae55",
            "value": "Downloading (…)/main/tokenizer.json: 100%"
          }
        },
        "e5246520d3644a2fa3463e44c2549a5d": {
          "model_module": "@jupyter-widgets/controls",
          "model_name": "FloatProgressModel",
          "model_module_version": "1.5.0",
          "state": {
            "_dom_classes": [],
            "_model_module": "@jupyter-widgets/controls",
            "_model_module_version": "1.5.0",
            "_model_name": "FloatProgressModel",
            "_view_count": null,
            "_view_module": "@jupyter-widgets/controls",
            "_view_module_version": "1.5.0",
            "_view_name": "ProgressView",
            "bar_style": "success",
            "description": "",
            "description_tooltip": null,
            "layout": "IPY_MODEL_cb1e36e6e6894f698a89573970418c7f",
            "max": 2825034,
            "min": 0,
            "orientation": "horizontal",
            "style": "IPY_MODEL_cf6a03e66c56481390d0441ba55d4eea",
            "value": 2825034
          }
        },
        "0efc38947ea148c6bcd2eff238b39cbf": {
          "model_module": "@jupyter-widgets/controls",
          "model_name": "HTMLModel",
          "model_module_version": "1.5.0",
          "state": {
            "_dom_classes": [],
            "_model_module": "@jupyter-widgets/controls",
            "_model_module_version": "1.5.0",
            "_model_name": "HTMLModel",
            "_view_count": null,
            "_view_module": "@jupyter-widgets/controls",
            "_view_module_version": "1.5.0",
            "_view_name": "HTMLView",
            "description": "",
            "description_tooltip": null,
            "layout": "IPY_MODEL_c84e283bfb534000874f3d41fd0ca7de",
            "placeholder": "​",
            "style": "IPY_MODEL_d8645b0a29bf42e1a504f59612437223",
            "value": " 2.83M/2.83M [00:00&lt;00:00, 6.61MB/s]"
          }
        },
        "519f2a5ba83640ceba5938a73bb14fbc": {
          "model_module": "@jupyter-widgets/base",
          "model_name": "LayoutModel",
          "model_module_version": "1.2.0",
          "state": {
            "_model_module": "@jupyter-widgets/base",
            "_model_module_version": "1.2.0",
            "_model_name": "LayoutModel",
            "_view_count": null,
            "_view_module": "@jupyter-widgets/base",
            "_view_module_version": "1.2.0",
            "_view_name": "LayoutView",
            "align_content": null,
            "align_items": null,
            "align_self": null,
            "border": null,
            "bottom": null,
            "display": null,
            "flex": null,
            "flex_flow": null,
            "grid_area": null,
            "grid_auto_columns": null,
            "grid_auto_flow": null,
            "grid_auto_rows": null,
            "grid_column": null,
            "grid_gap": null,
            "grid_row": null,
            "grid_template_areas": null,
            "grid_template_columns": null,
            "grid_template_rows": null,
            "height": null,
            "justify_content": null,
            "justify_items": null,
            "left": null,
            "margin": null,
            "max_height": null,
            "max_width": null,
            "min_height": null,
            "min_width": null,
            "object_fit": null,
            "object_position": null,
            "order": null,
            "overflow": null,
            "overflow_x": null,
            "overflow_y": null,
            "padding": null,
            "right": null,
            "top": null,
            "visibility": null,
            "width": null
          }
        },
        "95f11938ae88464ea86e9633bb8586f4": {
          "model_module": "@jupyter-widgets/base",
          "model_name": "LayoutModel",
          "model_module_version": "1.2.0",
          "state": {
            "_model_module": "@jupyter-widgets/base",
            "_model_module_version": "1.2.0",
            "_model_name": "LayoutModel",
            "_view_count": null,
            "_view_module": "@jupyter-widgets/base",
            "_view_module_version": "1.2.0",
            "_view_name": "LayoutView",
            "align_content": null,
            "align_items": null,
            "align_self": null,
            "border": null,
            "bottom": null,
            "display": null,
            "flex": null,
            "flex_flow": null,
            "grid_area": null,
            "grid_auto_columns": null,
            "grid_auto_flow": null,
            "grid_auto_rows": null,
            "grid_column": null,
            "grid_gap": null,
            "grid_row": null,
            "grid_template_areas": null,
            "grid_template_columns": null,
            "grid_template_rows": null,
            "height": null,
            "justify_content": null,
            "justify_items": null,
            "left": null,
            "margin": null,
            "max_height": null,
            "max_width": null,
            "min_height": null,
            "min_width": null,
            "object_fit": null,
            "object_position": null,
            "order": null,
            "overflow": null,
            "overflow_x": null,
            "overflow_y": null,
            "padding": null,
            "right": null,
            "top": null,
            "visibility": null,
            "width": null
          }
        },
        "2fdfe72270be4bce95dd9fd42319ae55": {
          "model_module": "@jupyter-widgets/controls",
          "model_name": "DescriptionStyleModel",
          "model_module_version": "1.5.0",
          "state": {
            "_model_module": "@jupyter-widgets/controls",
            "_model_module_version": "1.5.0",
            "_model_name": "DescriptionStyleModel",
            "_view_count": null,
            "_view_module": "@jupyter-widgets/base",
            "_view_module_version": "1.2.0",
            "_view_name": "StyleView",
            "description_width": ""
          }
        },
        "cb1e36e6e6894f698a89573970418c7f": {
          "model_module": "@jupyter-widgets/base",
          "model_name": "LayoutModel",
          "model_module_version": "1.2.0",
          "state": {
            "_model_module": "@jupyter-widgets/base",
            "_model_module_version": "1.2.0",
            "_model_name": "LayoutModel",
            "_view_count": null,
            "_view_module": "@jupyter-widgets/base",
            "_view_module_version": "1.2.0",
            "_view_name": "LayoutView",
            "align_content": null,
            "align_items": null,
            "align_self": null,
            "border": null,
            "bottom": null,
            "display": null,
            "flex": null,
            "flex_flow": null,
            "grid_area": null,
            "grid_auto_columns": null,
            "grid_auto_flow": null,
            "grid_auto_rows": null,
            "grid_column": null,
            "grid_gap": null,
            "grid_row": null,
            "grid_template_areas": null,
            "grid_template_columns": null,
            "grid_template_rows": null,
            "height": null,
            "justify_content": null,
            "justify_items": null,
            "left": null,
            "margin": null,
            "max_height": null,
            "max_width": null,
            "min_height": null,
            "min_width": null,
            "object_fit": null,
            "object_position": null,
            "order": null,
            "overflow": null,
            "overflow_x": null,
            "overflow_y": null,
            "padding": null,
            "right": null,
            "top": null,
            "visibility": null,
            "width": null
          }
        },
        "cf6a03e66c56481390d0441ba55d4eea": {
          "model_module": "@jupyter-widgets/controls",
          "model_name": "ProgressStyleModel",
          "model_module_version": "1.5.0",
          "state": {
            "_model_module": "@jupyter-widgets/controls",
            "_model_module_version": "1.5.0",
            "_model_name": "ProgressStyleModel",
            "_view_count": null,
            "_view_module": "@jupyter-widgets/base",
            "_view_module_version": "1.2.0",
            "_view_name": "StyleView",
            "bar_color": null,
            "description_width": ""
          }
        },
        "c84e283bfb534000874f3d41fd0ca7de": {
          "model_module": "@jupyter-widgets/base",
          "model_name": "LayoutModel",
          "model_module_version": "1.2.0",
          "state": {
            "_model_module": "@jupyter-widgets/base",
            "_model_module_version": "1.2.0",
            "_model_name": "LayoutModel",
            "_view_count": null,
            "_view_module": "@jupyter-widgets/base",
            "_view_module_version": "1.2.0",
            "_view_name": "LayoutView",
            "align_content": null,
            "align_items": null,
            "align_self": null,
            "border": null,
            "bottom": null,
            "display": null,
            "flex": null,
            "flex_flow": null,
            "grid_area": null,
            "grid_auto_columns": null,
            "grid_auto_flow": null,
            "grid_auto_rows": null,
            "grid_column": null,
            "grid_gap": null,
            "grid_row": null,
            "grid_template_areas": null,
            "grid_template_columns": null,
            "grid_template_rows": null,
            "height": null,
            "justify_content": null,
            "justify_items": null,
            "left": null,
            "margin": null,
            "max_height": null,
            "max_width": null,
            "min_height": null,
            "min_width": null,
            "object_fit": null,
            "object_position": null,
            "order": null,
            "overflow": null,
            "overflow_x": null,
            "overflow_y": null,
            "padding": null,
            "right": null,
            "top": null,
            "visibility": null,
            "width": null
          }
        },
        "d8645b0a29bf42e1a504f59612437223": {
          "model_module": "@jupyter-widgets/controls",
          "model_name": "DescriptionStyleModel",
          "model_module_version": "1.5.0",
          "state": {
            "_model_module": "@jupyter-widgets/controls",
            "_model_module_version": "1.5.0",
            "_model_name": "DescriptionStyleModel",
            "_view_count": null,
            "_view_module": "@jupyter-widgets/base",
            "_view_module_version": "1.2.0",
            "_view_name": "StyleView",
            "description_width": ""
          }
        },
        "c7dfaa5a272747e2a24bd6b994cd125c": {
          "model_module": "@jupyter-widgets/controls",
          "model_name": "HBoxModel",
          "model_module_version": "1.5.0",
          "state": {
            "_dom_classes": [],
            "_model_module": "@jupyter-widgets/controls",
            "_model_module_version": "1.5.0",
            "_model_name": "HBoxModel",
            "_view_count": null,
            "_view_module": "@jupyter-widgets/controls",
            "_view_module_version": "1.5.0",
            "_view_name": "HBoxView",
            "box_style": "",
            "children": [
              "IPY_MODEL_9bccc16e9d704ea7931efb9acf30b5ff",
              "IPY_MODEL_19af66ba4ba347e185098474f14b668d",
              "IPY_MODEL_c3af7bcf750b48ad88736fae119a845c"
            ],
            "layout": "IPY_MODEL_b9815fb3c6e04613b09295d3a74dd1e5"
          }
        },
        "9bccc16e9d704ea7931efb9acf30b5ff": {
          "model_module": "@jupyter-widgets/controls",
          "model_name": "HTMLModel",
          "model_module_version": "1.5.0",
          "state": {
            "_dom_classes": [],
            "_model_module": "@jupyter-widgets/controls",
            "_model_module_version": "1.5.0",
            "_model_name": "HTMLModel",
            "_view_count": null,
            "_view_module": "@jupyter-widgets/controls",
            "_view_module_version": "1.5.0",
            "_view_name": "HTMLView",
            "description": "",
            "description_tooltip": null,
            "layout": "IPY_MODEL_425c48f5f6d44e218a9ab21b1a6b8e4c",
            "placeholder": "​",
            "style": "IPY_MODEL_2a1efa4db20a4d71b399e467a31a4097",
            "value": "Downloading pytorch_model.bin: 100%"
          }
        },
        "19af66ba4ba347e185098474f14b668d": {
          "model_module": "@jupyter-widgets/controls",
          "model_name": "FloatProgressModel",
          "model_module_version": "1.5.0",
          "state": {
            "_dom_classes": [],
            "_model_module": "@jupyter-widgets/controls",
            "_model_module_version": "1.5.0",
            "_model_name": "FloatProgressModel",
            "_view_count": null,
            "_view_module": "@jupyter-widgets/controls",
            "_view_module_version": "1.5.0",
            "_view_name": "ProgressView",
            "bar_style": "success",
            "description": "",
            "description_tooltip": null,
            "layout": "IPY_MODEL_af97acd2aa9c4e6394e1a894419a0642",
            "max": 513302779,
            "min": 0,
            "orientation": "horizontal",
            "style": "IPY_MODEL_c83e45817b7e4af5b2eb2d8b3c21d98e",
            "value": 513302779
          }
        },
        "c3af7bcf750b48ad88736fae119a845c": {
          "model_module": "@jupyter-widgets/controls",
          "model_name": "HTMLModel",
          "model_module_version": "1.5.0",
          "state": {
            "_dom_classes": [],
            "_model_module": "@jupyter-widgets/controls",
            "_model_module_version": "1.5.0",
            "_model_name": "HTMLModel",
            "_view_count": null,
            "_view_module": "@jupyter-widgets/controls",
            "_view_module_version": "1.5.0",
            "_view_name": "HTMLView",
            "description": "",
            "description_tooltip": null,
            "layout": "IPY_MODEL_1bfe2311f75a4ba59fad56d6db317a21",
            "placeholder": "​",
            "style": "IPY_MODEL_5b84c2ec134543cab5999cbd04746a65",
            "value": " 513M/513M [00:05&lt;00:00, 64.8MB/s]"
          }
        },
        "b9815fb3c6e04613b09295d3a74dd1e5": {
          "model_module": "@jupyter-widgets/base",
          "model_name": "LayoutModel",
          "model_module_version": "1.2.0",
          "state": {
            "_model_module": "@jupyter-widgets/base",
            "_model_module_version": "1.2.0",
            "_model_name": "LayoutModel",
            "_view_count": null,
            "_view_module": "@jupyter-widgets/base",
            "_view_module_version": "1.2.0",
            "_view_name": "LayoutView",
            "align_content": null,
            "align_items": null,
            "align_self": null,
            "border": null,
            "bottom": null,
            "display": null,
            "flex": null,
            "flex_flow": null,
            "grid_area": null,
            "grid_auto_columns": null,
            "grid_auto_flow": null,
            "grid_auto_rows": null,
            "grid_column": null,
            "grid_gap": null,
            "grid_row": null,
            "grid_template_areas": null,
            "grid_template_columns": null,
            "grid_template_rows": null,
            "height": null,
            "justify_content": null,
            "justify_items": null,
            "left": null,
            "margin": null,
            "max_height": null,
            "max_width": null,
            "min_height": null,
            "min_width": null,
            "object_fit": null,
            "object_position": null,
            "order": null,
            "overflow": null,
            "overflow_x": null,
            "overflow_y": null,
            "padding": null,
            "right": null,
            "top": null,
            "visibility": null,
            "width": null
          }
        },
        "425c48f5f6d44e218a9ab21b1a6b8e4c": {
          "model_module": "@jupyter-widgets/base",
          "model_name": "LayoutModel",
          "model_module_version": "1.2.0",
          "state": {
            "_model_module": "@jupyter-widgets/base",
            "_model_module_version": "1.2.0",
            "_model_name": "LayoutModel",
            "_view_count": null,
            "_view_module": "@jupyter-widgets/base",
            "_view_module_version": "1.2.0",
            "_view_name": "LayoutView",
            "align_content": null,
            "align_items": null,
            "align_self": null,
            "border": null,
            "bottom": null,
            "display": null,
            "flex": null,
            "flex_flow": null,
            "grid_area": null,
            "grid_auto_columns": null,
            "grid_auto_flow": null,
            "grid_auto_rows": null,
            "grid_column": null,
            "grid_gap": null,
            "grid_row": null,
            "grid_template_areas": null,
            "grid_template_columns": null,
            "grid_template_rows": null,
            "height": null,
            "justify_content": null,
            "justify_items": null,
            "left": null,
            "margin": null,
            "max_height": null,
            "max_width": null,
            "min_height": null,
            "min_width": null,
            "object_fit": null,
            "object_position": null,
            "order": null,
            "overflow": null,
            "overflow_x": null,
            "overflow_y": null,
            "padding": null,
            "right": null,
            "top": null,
            "visibility": null,
            "width": null
          }
        },
        "2a1efa4db20a4d71b399e467a31a4097": {
          "model_module": "@jupyter-widgets/controls",
          "model_name": "DescriptionStyleModel",
          "model_module_version": "1.5.0",
          "state": {
            "_model_module": "@jupyter-widgets/controls",
            "_model_module_version": "1.5.0",
            "_model_name": "DescriptionStyleModel",
            "_view_count": null,
            "_view_module": "@jupyter-widgets/base",
            "_view_module_version": "1.2.0",
            "_view_name": "StyleView",
            "description_width": ""
          }
        },
        "af97acd2aa9c4e6394e1a894419a0642": {
          "model_module": "@jupyter-widgets/base",
          "model_name": "LayoutModel",
          "model_module_version": "1.2.0",
          "state": {
            "_model_module": "@jupyter-widgets/base",
            "_model_module_version": "1.2.0",
            "_model_name": "LayoutModel",
            "_view_count": null,
            "_view_module": "@jupyter-widgets/base",
            "_view_module_version": "1.2.0",
            "_view_name": "LayoutView",
            "align_content": null,
            "align_items": null,
            "align_self": null,
            "border": null,
            "bottom": null,
            "display": null,
            "flex": null,
            "flex_flow": null,
            "grid_area": null,
            "grid_auto_columns": null,
            "grid_auto_flow": null,
            "grid_auto_rows": null,
            "grid_column": null,
            "grid_gap": null,
            "grid_row": null,
            "grid_template_areas": null,
            "grid_template_columns": null,
            "grid_template_rows": null,
            "height": null,
            "justify_content": null,
            "justify_items": null,
            "left": null,
            "margin": null,
            "max_height": null,
            "max_width": null,
            "min_height": null,
            "min_width": null,
            "object_fit": null,
            "object_position": null,
            "order": null,
            "overflow": null,
            "overflow_x": null,
            "overflow_y": null,
            "padding": null,
            "right": null,
            "top": null,
            "visibility": null,
            "width": null
          }
        },
        "c83e45817b7e4af5b2eb2d8b3c21d98e": {
          "model_module": "@jupyter-widgets/controls",
          "model_name": "ProgressStyleModel",
          "model_module_version": "1.5.0",
          "state": {
            "_model_module": "@jupyter-widgets/controls",
            "_model_module_version": "1.5.0",
            "_model_name": "ProgressStyleModel",
            "_view_count": null,
            "_view_module": "@jupyter-widgets/base",
            "_view_module_version": "1.2.0",
            "_view_name": "StyleView",
            "bar_color": null,
            "description_width": ""
          }
        },
        "1bfe2311f75a4ba59fad56d6db317a21": {
          "model_module": "@jupyter-widgets/base",
          "model_name": "LayoutModel",
          "model_module_version": "1.2.0",
          "state": {
            "_model_module": "@jupyter-widgets/base",
            "_model_module_version": "1.2.0",
            "_model_name": "LayoutModel",
            "_view_count": null,
            "_view_module": "@jupyter-widgets/base",
            "_view_module_version": "1.2.0",
            "_view_name": "LayoutView",
            "align_content": null,
            "align_items": null,
            "align_self": null,
            "border": null,
            "bottom": null,
            "display": null,
            "flex": null,
            "flex_flow": null,
            "grid_area": null,
            "grid_auto_columns": null,
            "grid_auto_flow": null,
            "grid_auto_rows": null,
            "grid_column": null,
            "grid_gap": null,
            "grid_row": null,
            "grid_template_areas": null,
            "grid_template_columns": null,
            "grid_template_rows": null,
            "height": null,
            "justify_content": null,
            "justify_items": null,
            "left": null,
            "margin": null,
            "max_height": null,
            "max_width": null,
            "min_height": null,
            "min_width": null,
            "object_fit": null,
            "object_position": null,
            "order": null,
            "overflow": null,
            "overflow_x": null,
            "overflow_y": null,
            "padding": null,
            "right": null,
            "top": null,
            "visibility": null,
            "width": null
          }
        },
        "5b84c2ec134543cab5999cbd04746a65": {
          "model_module": "@jupyter-widgets/controls",
          "model_name": "DescriptionStyleModel",
          "model_module_version": "1.5.0",
          "state": {
            "_model_module": "@jupyter-widgets/controls",
            "_model_module_version": "1.5.0",
            "_model_name": "DescriptionStyleModel",
            "_view_count": null,
            "_view_module": "@jupyter-widgets/base",
            "_view_module_version": "1.2.0",
            "_view_name": "StyleView",
            "description_width": ""
          }
        }
      }
    }
  },
  "cells": [
    {
      "cell_type": "markdown",
      "metadata": {
        "id": "view-in-github",
        "colab_type": "text"
      },
      "source": [
        "<a href=\"https://colab.research.google.com/github/tusker4/Sesac_Saltlux_DeepLearning/blob/main/5_NLP_Transformers_kogpt2_%EB%AC%B8%EC%9E%A5%EC%83%9D%EC%84%B1_%EC%A0%9C%EB%A1%9C%EC%83%B7%EB%9F%AC%EB%8B%9D.ipynb\" target=\"_parent\"><img src=\"https://colab.research.google.com/assets/colab-badge.svg\" alt=\"Open In Colab\"/></a>"
      ]
    },
    {
      "cell_type": "code",
      "source": [],
      "metadata": {
        "id": "yBj4MD0o1Em9"
      },
      "execution_count": null,
      "outputs": []
    },
    {
      "cell_type": "code",
      "source": [
        "from google.colab import drive\n",
        "drive.mount('/content/drive')"
      ],
      "metadata": {
        "colab": {
          "base_uri": "https://localhost:8080/"
        },
        "id": "anAKhr3jKexn",
        "outputId": "c75b15a7-e6f2-4108-c31f-85d8d5663c49"
      },
      "execution_count": null,
      "outputs": [
        {
          "output_type": "stream",
          "name": "stdout",
          "text": [
            "Drive already mounted at /content/drive; to attempt to forcibly remount, call drive.mount(\"/content/drive\", force_remount=True).\n"
          ]
        }
      ]
    },
    {
      "cell_type": "markdown",
      "source": [
        "- 주소\n",
        "  - https://github.com/SKT-AI/KoGPT2\n",
        "\n",
        "- 목표\n",
        "  - 오랜시간에 걸쳐서 대량의 데이터로 사전학습된 모델을 가져와서, 문장 생성 서비스를 생성\n",
        "  - transformers 계열 모델 사용(허깅페이스 플랫폼 기반)\n",
        "\n",
        "- 사전 크기\n",
        "  - 51,200자\n",
        "\n",
        "- 학습\n",
        "  - 사전 학습된 모델 그대로 사용(제로샷)\n",
        "  - 향후, 수집한 데이터를 학습시켜서 (파인튜닝 수행) 특정데이터에 특화된 모델을 생성\n",
        "\n",
        "- 서비스\n",
        "  - flask 챗봇 서비스에 이식 -> 문장이 완성되서 한번에 출력 혹은 단어가 생성되면 바로바로 전송해서 문장이 완성되게 하는 방식\n",
        "  - aws 적용"
      ],
      "metadata": {
        "id": "-Moh2MiKz7_7"
      }
    },
    {
      "cell_type": "markdown",
      "source": [
        "## 트렌스포머 설치"
      ],
      "metadata": {
        "id": "QY7t9g4mzplI"
      }
    },
    {
      "cell_type": "code",
      "source": [
        "!pip install transformers"
      ],
      "metadata": {
        "colab": {
          "base_uri": "https://localhost:8080/"
        },
        "id": "LLUinpqz09DA",
        "outputId": "831ec7ec-8156-4e1b-e063-37eeec88ab77"
      },
      "execution_count": null,
      "outputs": [
        {
          "output_type": "stream",
          "name": "stdout",
          "text": [
            "Requirement already satisfied: transformers in /usr/local/lib/python3.10/dist-packages (4.35.0)\n",
            "Requirement already satisfied: filelock in /usr/local/lib/python3.10/dist-packages (from transformers) (3.13.1)\n",
            "Requirement already satisfied: huggingface-hub<1.0,>=0.16.4 in /usr/local/lib/python3.10/dist-packages (from transformers) (0.17.3)\n",
            "Requirement already satisfied: numpy>=1.17 in /usr/local/lib/python3.10/dist-packages (from transformers) (1.23.5)\n",
            "Requirement already satisfied: packaging>=20.0 in /usr/local/lib/python3.10/dist-packages (from transformers) (23.2)\n",
            "Requirement already satisfied: pyyaml>=5.1 in /usr/local/lib/python3.10/dist-packages (from transformers) (6.0.1)\n",
            "Requirement already satisfied: regex!=2019.12.17 in /usr/local/lib/python3.10/dist-packages (from transformers) (2023.6.3)\n",
            "Requirement already satisfied: requests in /usr/local/lib/python3.10/dist-packages (from transformers) (2.31.0)\n",
            "Requirement already satisfied: tokenizers<0.15,>=0.14 in /usr/local/lib/python3.10/dist-packages (from transformers) (0.14.1)\n",
            "Requirement already satisfied: safetensors>=0.3.1 in /usr/local/lib/python3.10/dist-packages (from transformers) (0.4.0)\n",
            "Requirement already satisfied: tqdm>=4.27 in /usr/local/lib/python3.10/dist-packages (from transformers) (4.66.1)\n",
            "Requirement already satisfied: fsspec in /usr/local/lib/python3.10/dist-packages (from huggingface-hub<1.0,>=0.16.4->transformers) (2023.6.0)\n",
            "Requirement already satisfied: typing-extensions>=3.7.4.3 in /usr/local/lib/python3.10/dist-packages (from huggingface-hub<1.0,>=0.16.4->transformers) (4.5.0)\n",
            "Requirement already satisfied: charset-normalizer<4,>=2 in /usr/local/lib/python3.10/dist-packages (from requests->transformers) (3.3.2)\n",
            "Requirement already satisfied: idna<4,>=2.5 in /usr/local/lib/python3.10/dist-packages (from requests->transformers) (3.4)\n",
            "Requirement already satisfied: urllib3<3,>=1.21.1 in /usr/local/lib/python3.10/dist-packages (from requests->transformers) (2.0.7)\n",
            "Requirement already satisfied: certifi>=2017.4.17 in /usr/local/lib/python3.10/dist-packages (from requests->transformers) (2023.7.22)\n"
          ]
        }
      ]
    },
    {
      "cell_type": "markdown",
      "source": [
        "#  kogpt2-base-v2-로드\n",
        "- 레퍼지토리 명  \n",
        "  - URL : https://huggingface.co/skt/kogpt2-base-v2\n",
        "  - **skt/kogpt2-base-v2**\n",
        "- 2개 모델 로드\n",
        "  - 토크나이저\n",
        "    - 사전에 텍스트->사전화->백터화->패딩->임베딩\n",
        "    - 텍스트 -> 인코딩 -> 벡터화 제공\n",
        "    - 예측(수치) -> 디코딩 -> 텍스트\n",
        "  -예측모델\n",
        "    - 입력 -> 텍스트 생성"
      ],
      "metadata": {
        "id": "gTFs141x1Jeo"
      }
    },
    {
      "cell_type": "code",
      "source": [
        "from transformers import AutoTokenizer\n",
        "from transformers import TFGPT2LMHeadModel\n",
        "# 토치로 만든 모델 -> 텐서플로우로 사용 -> 일부 가중치는 사용 안될수도 있다.(감안)"
      ],
      "metadata": {
        "id": "_AfLU7Ri0-oo"
      },
      "execution_count": null,
      "outputs": []
    },
    {
      "cell_type": "code",
      "source": [
        "repo = 'skt/kogpt2-base-v2' # 허깅페이스에 등록될 사전 학습된 모델의 레파지토리\n",
        "tokenizer = AutoTokenizer.from_pretrained( repo )\n",
        "model = TFGPT2LMHeadModel.from_pretrained(repo, from_pt = True)"
      ],
      "metadata": {
        "colab": {
          "base_uri": "https://localhost:8080/",
          "height": 308,
          "referenced_widgets": [
            "c3f4d83887a647568379dfbb9bcb16f2",
            "00b9f00d96f34e2cad0beaf9a6486d9a",
            "a7d83bdc266a4c55ba2c38baacb00261",
            "5bbd740e1c8c46498bfa86ba522bddd6",
            "784886ea4f69447da9de343cfca1aaf3",
            "03a9362025224da29b4c6c3ea7164373",
            "5f0f993cc5674824ba533943c0689e4e",
            "3d15f697b49245409eeb2ff075339e94",
            "d59455d1373c46969e1c50b644506cdc",
            "400ab4c58b114040835deda3bc3e351f",
            "4e486fc5549141e497926be9b703aedb",
            "66b27dd13b6246759dab098e1f009038",
            "56cb1b4b31e34543a787bc8952a09d3d",
            "e5246520d3644a2fa3463e44c2549a5d",
            "0efc38947ea148c6bcd2eff238b39cbf",
            "519f2a5ba83640ceba5938a73bb14fbc",
            "95f11938ae88464ea86e9633bb8586f4",
            "2fdfe72270be4bce95dd9fd42319ae55",
            "cb1e36e6e6894f698a89573970418c7f",
            "cf6a03e66c56481390d0441ba55d4eea",
            "c84e283bfb534000874f3d41fd0ca7de",
            "d8645b0a29bf42e1a504f59612437223",
            "c7dfaa5a272747e2a24bd6b994cd125c",
            "9bccc16e9d704ea7931efb9acf30b5ff",
            "19af66ba4ba347e185098474f14b668d",
            "c3af7bcf750b48ad88736fae119a845c",
            "b9815fb3c6e04613b09295d3a74dd1e5",
            "425c48f5f6d44e218a9ab21b1a6b8e4c",
            "2a1efa4db20a4d71b399e467a31a4097",
            "af97acd2aa9c4e6394e1a894419a0642",
            "c83e45817b7e4af5b2eb2d8b3c21d98e",
            "1bfe2311f75a4ba59fad56d6db317a21",
            "5b84c2ec134543cab5999cbd04746a65"
          ]
        },
        "id": "LawuDu762fZR",
        "outputId": "79912a45-47d3-4cca-eaeb-5dd35c99cd12"
      },
      "execution_count": null,
      "outputs": [
        {
          "output_type": "display_data",
          "data": {
            "text/plain": [
              "Downloading (…)lve/main/config.json:   0%|          | 0.00/1.00k [00:00<?, ?B/s]"
            ],
            "application/vnd.jupyter.widget-view+json": {
              "version_major": 2,
              "version_minor": 0,
              "model_id": "c3f4d83887a647568379dfbb9bcb16f2"
            }
          },
          "metadata": {}
        },
        {
          "output_type": "display_data",
          "data": {
            "text/plain": [
              "Downloading (…)/main/tokenizer.json:   0%|          | 0.00/2.83M [00:00<?, ?B/s]"
            ],
            "application/vnd.jupyter.widget-view+json": {
              "version_major": 2,
              "version_minor": 0,
              "model_id": "66b27dd13b6246759dab098e1f009038"
            }
          },
          "metadata": {}
        },
        {
          "output_type": "display_data",
          "data": {
            "text/plain": [
              "Downloading pytorch_model.bin:   0%|          | 0.00/513M [00:00<?, ?B/s]"
            ],
            "application/vnd.jupyter.widget-view+json": {
              "version_major": 2,
              "version_minor": 0,
              "model_id": "c7dfaa5a272747e2a24bd6b994cd125c"
            }
          },
          "metadata": {}
        },
        {
          "output_type": "stream",
          "name": "stderr",
          "text": [
            "Some weights of the PyTorch model were not used when initializing the TF 2.0 model TFGPT2LMHeadModel: ['transformer.h.10.attn.masked_bias', 'transformer.h.11.attn.masked_bias', 'transformer.h.4.attn.masked_bias', 'transformer.h.2.attn.masked_bias', 'transformer.h.5.attn.masked_bias', 'transformer.h.1.attn.masked_bias', 'transformer.h.8.attn.masked_bias', 'transformer.h.0.attn.masked_bias', 'transformer.h.3.attn.masked_bias', 'transformer.h.7.attn.masked_bias', 'transformer.h.9.attn.masked_bias', 'transformer.h.6.attn.masked_bias', 'lm_head.weight']\n",
            "- This IS expected if you are initializing TFGPT2LMHeadModel from a PyTorch model trained on another task or with another architecture (e.g. initializing a TFBertForSequenceClassification model from a BertForPreTraining model).\n",
            "- This IS NOT expected if you are initializing TFGPT2LMHeadModel from a PyTorch model that you expect to be exactly identical (e.g. initializing a TFBertForSequenceClassification model from a BertForSequenceClassification model).\n",
            "All the weights of TFGPT2LMHeadModel were initialized from the PyTorch model.\n",
            "If your task is similar to the task the model of the checkpoint was trained on, you can already use TFGPT2LMHeadModel for predictions without further training.\n"
          ]
        }
      ]
    },
    {
      "cell_type": "markdown",
      "source": [
        "# 문장 생성 테스트"
      ],
      "metadata": {
        "id": "LP8skrYs3g6c"
      }
    },
    {
      "cell_type": "code",
      "source": [
        "import tensorflow as tf"
      ],
      "metadata": {
        "id": "CNeQqnvZ9Po3"
      },
      "execution_count": null,
      "outputs": []
    },
    {
      "cell_type": "code",
      "source": [
        "\n",
        "# 1. 입력문장 받을 변수\n",
        "text = None\n",
        "# 2. 사용자 입력무한대기\n",
        "while True:\n",
        "  text = input('작성하고 싶은 글의 초기문장을 넣어주세요\\n').strip('')\n",
        "  # 무한대기종료\n",
        "  if text == 'z':\n",
        "    break\n",
        "  # 비워있는 문자열인 경우\n",
        "  if not text:\n",
        "    print('정확하게 입력해주세요')\n",
        "    continue # 가장 가까운 if문으로\n",
        "\n",
        "  # 정상처리 시작\n",
        "  # 1. 택스트 -> 인코딩 -> 문장벡터 획득\n",
        "  input_vector = tokenizer.encode(text)\n",
        "  print(input_vector)\n",
        "\n",
        "  # 2. 이 모델이 원하는 형태로 문장백터로 변환 -> 여기서는 2D-텐서\n",
        "  input_vector = tf.convert_to_tensor( [input_vector])\n",
        "  print(input_vector)\n",
        "\n",
        "  # 3. 모델을 이용하여, 문장 생성 -> 품질?, 문장의 길이?\n",
        "\n",
        "  output = model.generate(input_vector, max_length=64,  # 생성되는 단어수, 토큰수 최대값\n",
        "                 use_cache=True, # 캐싱을 활용, 동일 내용에 대한 빠른 응답\n",
        "                 repetition_penalty=2.0   # 수치는 넣어보면서 체크, 반복적으로 만들어진 문구-> 패널티 적용)\n",
        "                 )\n",
        "  # 4.  디코딩 -> 텐서 -> 배열 -> 출력\n",
        "  # 문장벡터 추출\n",
        "  output_vector = output.numpy().tolist()[0]\n",
        "  output_text =   tokenizer.decode(output_vector)\n",
        "  print('output_text : ', output_text )\n",
        "\n",
        "\n",
        "  pass"
      ],
      "metadata": {
        "colab": {
          "base_uri": "https://localhost:8080/"
        },
        "id": "PyNvMhjb2fcA",
        "outputId": "138aa35a-b6f8-45fb-8265-d8691c8c01d8"
      },
      "execution_count": null,
      "outputs": [
        {
          "name": "stdout",
          "output_type": "stream",
          "text": [
            "작성하고 싶은 글의 초기문장을 넣어주세요\n",
            "힘세고 좋은 아침 만약 누가 나를 물어본다면 나는 왈도\n",
            "[9723, 46777, 10586, 17339, 15359, 22031, 24692, 27515, 7655, 10846, 12102, 27417, 7235]\n",
            "tf.Tensor(\n",
            "[[ 9723 46777 10586 17339 15359 22031 24692 27515  7655 10846 12102 27417\n",
            "   7235]], shape=(1, 13), dtype=int32)\n",
            "output_text :  힘세고 좋은 아침 만약 누가 나를 물어본다면 나는 왈도왈부할 것이다.\n",
            "나는 그 말을 듣고 싶지 않다.\n",
            "그렇지만 내가 대답을 할 수 있는 유일한 방법은, 나의 답변을 듣는 것뿐이다.\n",
            "내가 질문하는 것은 내 질문에 대한 답을 찾는 일이다.\n",
            "이것은 나에게 가장 중요한 질문이다.\n",
            "나의 질문을 통해 우리는 자신의\n",
            "작성하고 싶은 글의 초기문장을 넣어주세요\n",
            "z\n"
          ]
        }
      ]
    },
    {
      "cell_type": "markdown",
      "source": [
        "- 생성된 문장은 학습시 사용한 코퍼스의 영향을 받음\n",
        "  - 특정분야에 적합한 대답 (->파인튜닝이 필요)\n",
        "- 문장을 다 모아서 한번에 리턴\n",
        "  - 사용자는 대기시간이 길어진다 -> 특정토큰이 완성되면 바로전송 -> 기다리지않는다."
      ],
      "metadata": {
        "id": "ViUICy8nAObG"
      }
    },
    {
      "cell_type": "code",
      "source": [
        "#  문장을 생성하는 응답 방식 조정\n",
        "import numpy as np\n",
        "import pandas as pd\n",
        "import random\n",
        "import math"
      ],
      "metadata": {
        "id": "xAtD8uNK2ffg"
      },
      "execution_count": null,
      "outputs": []
    },
    {
      "cell_type": "code",
      "source": [
        "text = '공부를 잘하기 위해서는'\n",
        "input_vector = tokenizer.encode(text)\n",
        "# 배열로 차원 추가 -> 2D\n",
        "input = np.array( [ input_vector ])\n",
        "print( input )\n",
        "# 디코딩 확인 -> 형태소 분석기 (한글은 교착어)가 어떻게 적용되어있는지 잠시 확인\n",
        "# toeknizer.decode(input_vector[:2])\n",
        "output = model(input)\n",
        "# print(type(output), output)\n",
        "# tf.math.top_k() => 활용, 모델을 통해 예측된 다음 단어(토큰)에 대한 상위 x 개를 뽑을 수 있다.\n",
        "# 항상 1등만 체크하면 => 답은 거의 비슷함, 상위 5개중 랜덤하게 선택(선택방법은 다양) -> 완전 다른 응답이 나올 수 있다.\n",
        "# tf.math.top_k(output.logits[0, -1]) : 마지막 토큰(다음 단어를 예측하기 위한 문장의 가장 마지막 단어)\n",
        "# (1, 4, 51200) 에서  (0, 0/1/2) 어텐션등 정보, (0,-1) 이 부분이 다음 단어 예측파트\n",
        "# 51200 => softmax 확률 세팅 =>  상위 5개만 추출\n",
        "print(output.logits[0, -1].shape)\n",
        "top5 = tf.math.top_k(output.logits[0, -1], k=5)\n",
        "# 입력 문장 기반 내용을 이어가는데 다음 토큰(단어로) 나올 후보들 중 확률이 높은 5개가 추출\n",
        "for idx in top5.indices.numpy():\n",
        "  print(idx, tokenizer.decode( idx ) ) # 랜덤 초이스 -> 선택에는 다양한 방법들이 존재함, 랜덤은 그중에 하나\n",
        "\n",
        "token_id = random.choice(top5.indices.numpy() ) # 주어진 데이터에서 하나 추출\n",
        "print(token_id, tokenizer.decode(token_id) )\n",
        "\n",
        "\n",
        "\n"
      ],
      "metadata": {
        "colab": {
          "base_uri": "https://localhost:8080/"
        },
        "id": "YhaWn8AQ2fg4",
        "outputId": "16fa67ab-9864-4550-be70-229fa657b97e"
      },
      "execution_count": null,
      "outputs": [
        {
          "output_type": "stream",
          "name": "stdout",
          "text": [
            "[[21347  9443  9154 11357]]\n",
            "(51200,)\n",
            "10635 먼저\n",
            "23879 무엇보다\n",
            "12201 우선\n",
            "11649 어떻게\n",
            "9745 자신의\n",
            "11649 어떻게\n"
          ]
        }
      ]
    },
    {
      "cell_type": "code",
      "source": [
        "# 다음에 나올 토큰을 랜덤하게  처리하여 문장을 생성하는 방식\n",
        "\n",
        "text = '공부를 잘하기 위해서는'\n",
        "input_vector = tokenizer.encode(text)\n",
        "\n",
        "while len(input_vector)<30 : # 제시한 문장 + 새로 만들어지는 문장 => 30토큰이면 종료\n",
        "  # 1. 모델 예측 => 원문 + 예측토큰(계속 누적)\n",
        "  # => 보다 완벽한 문장을 유도, 단 랜덤이 성능에 영향을 미침\n",
        "  # => 최초 입력 문장을 계속 입력 => 연산비용은 상승, 장기기억 분야에서는 도움\n",
        "  output = model(np.array( [ input_vector ]))\n",
        "  # 2. 다음 토큰으로 나온 예측값들중 탑 5 추출\n",
        "  top5 = tf.math.top_k(output.logits[0, -1], k=5)\n",
        "  # 3. 이중에서 랜덤으로 1개추출\n",
        "  token_id = random.choice(top5.indices.numpy())\n",
        "  # 4. 해당 글자를 출력 -> 클라이언트에서 전송(바로 혹은 3-4개씩 묶어서) 혹은 콘솔출력\n",
        "  print(tokenizer.decode(token_id), end=' ')\n",
        "  # 5. input_vector에 추가\n",
        "  input_vector.append(token_id)\n"
      ],
      "metadata": {
        "colab": {
          "base_uri": "https://localhost:8080/"
        },
        "id": "9EJRP76C2fh5",
        "outputId": "a9d2dfdc-622e-4738-ceeb-244e723f0dcf"
      },
      "execution_count": null,
      "outputs": [
        {
          "output_type": "stream",
          "name": "stdout",
          "text": [
            "자신의 실력을 최대한 끌어올 릴 수밖에 없는 법 이다. 하지만 아무리 열심히 공부하고 열심히 노력하는 것 에도 불구하고, 자신이 하고 싶어 하지 않거나 자신의 적 성이 "
          ]
        }
      ]
    },
    {
      "cell_type": "code",
      "source": [
        "pip list"
      ],
      "metadata": {
        "id": "Wg0wyTEC2fjQ"
      },
      "execution_count": null,
      "outputs": []
    },
    {
      "cell_type": "code",
      "source": [],
      "metadata": {
        "id": "OVzB0A7g2frK"
      },
      "execution_count": null,
      "outputs": []
    },
    {
      "cell_type": "code",
      "source": [],
      "metadata": {
        "id": "4Ffe2W8l2frq"
      },
      "execution_count": null,
      "outputs": []
    },
    {
      "cell_type": "code",
      "source": [],
      "metadata": {
        "id": "sj9mJsFo2fsR"
      },
      "execution_count": null,
      "outputs": []
    },
    {
      "cell_type": "code",
      "source": [],
      "metadata": {
        "id": "5o5Uf4RS2fs4"
      },
      "execution_count": null,
      "outputs": []
    },
    {
      "cell_type": "code",
      "source": [],
      "metadata": {
        "id": "YuGU87Qk2ftb"
      },
      "execution_count": null,
      "outputs": []
    },
    {
      "cell_type": "code",
      "source": [],
      "metadata": {
        "id": "msMSFhWK2ft_"
      },
      "execution_count": null,
      "outputs": []
    },
    {
      "cell_type": "code",
      "source": [],
      "metadata": {
        "id": "xi2AjkHW2fui"
      },
      "execution_count": null,
      "outputs": []
    },
    {
      "cell_type": "code",
      "source": [],
      "metadata": {
        "id": "7CQ7zodT2fvM"
      },
      "execution_count": null,
      "outputs": []
    },
    {
      "cell_type": "code",
      "source": [],
      "metadata": {
        "id": "UtuM6Bif2fvw"
      },
      "execution_count": null,
      "outputs": []
    },
    {
      "cell_type": "code",
      "source": [],
      "metadata": {
        "id": "YR6MBIUr2fwZ"
      },
      "execution_count": null,
      "outputs": []
    },
    {
      "cell_type": "code",
      "source": [],
      "metadata": {
        "id": "y-JR1v1t2fw8"
      },
      "execution_count": null,
      "outputs": []
    },
    {
      "cell_type": "code",
      "source": [],
      "metadata": {
        "id": "im7yHi7y2fxi"
      },
      "execution_count": null,
      "outputs": []
    },
    {
      "cell_type": "code",
      "source": [],
      "metadata": {
        "id": "97otYilN2fyD"
      },
      "execution_count": null,
      "outputs": []
    },
    {
      "cell_type": "code",
      "source": [],
      "metadata": {
        "id": "SOhYWqnv2fyt"
      },
      "execution_count": null,
      "outputs": []
    },
    {
      "cell_type": "code",
      "source": [],
      "metadata": {
        "id": "z0vbNpT82M5h"
      },
      "execution_count": null,
      "outputs": []
    }
  ]
}